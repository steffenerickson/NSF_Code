{
 "cells": [
  {
   "cell_type": "markdown",
   "id": "23d48402-bbf7-4938-8da0-1460fd81d4d0",
   "metadata": {},
   "source": [
    "## This notebook creates a folder of tables for the final project with the correct naming conventions "
   ]
  },
  {
   "cell_type": "code",
   "execution_count": 78,
   "id": "abb1c65a-dce1-42eb-894f-e80bfbe3de0c",
   "metadata": {},
   "outputs": [],
   "source": [
    "import shutil\n",
    "import os\n",
    "import tempfile"
   ]
  },
  {
   "cell_type": "code",
   "execution_count": 79,
   "id": "2d167ec1-df6a-421e-b1a9-e86d091a1d4e",
   "metadata": {},
   "outputs": [],
   "source": [
    "import configparser\n",
    "config = configparser.ConfigParser()\n",
    "config.read(\"../../env.ini\")\n",
    "data_home  = config['DEFAULT']['data_home']\n",
    "output_dir = config['DEFAULT']['output_dir']"
   ]
  },
  {
   "cell_type": "code",
   "execution_count": 80,
   "id": "c0e74397-fe3d-473a-8346-9c7fa2d99218",
   "metadata": {},
   "outputs": [],
   "source": [
    "if not os.path.exists(f\"{output_dir}/00_final_tables\"):\n",
    "    os.makedirs(f\"{output_dir}/00_final_tables\")"
   ]
  },
  {
   "cell_type": "code",
   "execution_count": 81,
   "id": "d6d8a52e-bc03-4ad5-9b6e-a3f99ecb2b32",
   "metadata": {},
   "outputs": [
    {
     "name": "stdout",
     "output_type": "stream",
     "text": [
      "total 186912\n",
      "-rw-r--r--  1 steffenerickson  staff   7232131 Apr 29 19:38 BOW.csv\n",
      "-rw-r--r--  1 steffenerickson  staff   1507591 Apr 29 19:40 BOW_SENT.csv\n",
      "-rw-r--r--  1 steffenerickson  staff  31054282 Apr 29 19:38 CORPUS.csv\n",
      "-rw-r--r--  1 steffenerickson  staff     80094 Apr 29 19:40 DOC_SENT.csv\n",
      "-rw-r--r--  1 steffenerickson  staff  15526432 Apr 29 19:38 DTM.csv\n",
      "-rw-r--r--  1 steffenerickson  staff    360766 Apr 29 19:39 LDA_PHI.csv\n",
      "-rw-r--r--  1 steffenerickson  staff     65536 Apr 29 19:39 LDA_THETA.csv\n",
      "-rw-r--r--  1 steffenerickson  staff     61728 Apr 29 19:37 LIB.csv\n",
      "-rw-r--r--  1 steffenerickson  staff      1093 Apr 29 19:38 PCA_COMPONENTS.csv\n",
      "-rw-r--r--  1 steffenerickson  staff    104892 Apr 29 19:38 PCA_DCM.csv\n",
      "-rw-r--r--  1 steffenerickson  staff    221500 Apr 29 19:38 PCA_LOADINGS.csv\n",
      "-rw-r--r--  1 steffenerickson  staff  33366980 Apr 29 19:38 TFIDF.csv\n",
      "-rw-r--r--  1 steffenerickson  staff   2978607 Apr 29 19:38 TFIDF_L2.csv\n",
      "-rw-r--r--  1 steffenerickson  staff    935930 Apr 29 19:38 VOCAB.csv\n",
      "-rw-r--r--  1 steffenerickson  staff     14152 Apr 29 19:40 VOCAB_SENT.csv\n",
      "-rw-r--r--  1 steffenerickson  staff    843888 Apr 29 19:40 VOCAB_W2V_0pre.csv\n",
      "-rw-r--r--  1 steffenerickson  staff    594456 Apr 29 19:40 VOCAB_W2V_1pre.csv\n",
      "-rw-r--r--  1 steffenerickson  staff    703487 Apr 29 19:40 VOCAB_W2V_2post.csv\n"
     ]
    }
   ],
   "source": [
    "ls -l"
   ]
  },
  {
   "cell_type": "code",
   "execution_count": 82,
   "id": "fd5f5b2f-eb10-424a-8100-a349ae1f43dc",
   "metadata": {},
   "outputs": [],
   "source": [
    "oldnames = \"library_personbysession corpus vocab bow dtcm tfidf tfidf_reduced_L2 pca_compinf \\\n",
    "pca_dcm pca_loadings lda_theta lda_phi sent_bow sent_doc sent_vocab  \\\n",
    "w2v_0pre w2v_1post w2v_2classroom\".split()"
   ]
  },
  {
   "cell_type": "code",
   "execution_count": 83,
   "id": "c5522f24-366c-4cc4-a200-9761b67c13a2",
   "metadata": {},
   "outputs": [],
   "source": [
    "newnames = \"LIB CORPUS VOCAB BOW DTM TFIDF TFIDF_L2 PCA_COMPONENTS PCA_DCM PCA_LOADINGS LDA_THETA LDA_PHI \\\n",
    "BOW_SENT DOC_SENT VOCAB_SENT VOCAB_W2V_0pre VOCAB_W2V_1pre VOCAB_W2V_2post\".split()"
   ]
  },
  {
   "cell_type": "code",
   "execution_count": 84,
   "id": "49af57f1-2169-4289-8b4d-d71d88445925",
   "metadata": {},
   "outputs": [
    {
     "data": {
      "text/plain": [
       "True"
      ]
     },
     "execution_count": 84,
     "metadata": {},
     "output_type": "execute_result"
    }
   ],
   "source": [
    "len(oldnames) == len(newnames)"
   ]
  },
  {
   "cell_type": "code",
   "execution_count": 85,
   "id": "bb22f890-acfd-4d3e-8cdd-795817db6ccb",
   "metadata": {},
   "outputs": [
    {
     "data": {
      "text/plain": [
       "['library_personbysession',\n",
       " 'corpus',\n",
       " 'vocab',\n",
       " 'bow',\n",
       " 'dtcm',\n",
       " 'tfidf',\n",
       " 'tfidf_reduced_L2',\n",
       " 'pca_compinf',\n",
       " 'pca_dcm',\n",
       " 'pca_loadings',\n",
       " 'lda_theta',\n",
       " 'lda_phi',\n",
       " 'sent_bow',\n",
       " 'sent_doc',\n",
       " 'sent_vocab',\n",
       " 'w2v_0pre',\n",
       " 'w2v_1post',\n",
       " 'w2v_2classroom']"
      ]
     },
     "execution_count": 85,
     "metadata": {},
     "output_type": "execute_result"
    }
   ],
   "source": [
    "oldnames"
   ]
  },
  {
   "cell_type": "code",
   "execution_count": 86,
   "id": "a5285654-22c0-4890-949f-575f10795bc7",
   "metadata": {},
   "outputs": [
    {
     "data": {
      "text/plain": [
       "['LIB',\n",
       " 'CORPUS',\n",
       " 'VOCAB',\n",
       " 'BOW',\n",
       " 'DTM',\n",
       " 'TFIDF',\n",
       " 'TFIDF_L2',\n",
       " 'PCA_COMPONENTS',\n",
       " 'PCA_DCM',\n",
       " 'PCA_LOADINGS',\n",
       " 'LDA_THETA',\n",
       " 'LDA_PHI',\n",
       " 'BOW_SENT',\n",
       " 'DOC_SENT',\n",
       " 'VOCAB_SENT',\n",
       " 'VOCAB_W2V_0pre',\n",
       " 'VOCAB_W2V_1pre',\n",
       " 'VOCAB_W2V_2post']"
      ]
     },
     "execution_count": 86,
     "metadata": {},
     "output_type": "execute_result"
    }
   ],
   "source": [
    "newnames"
   ]
  },
  {
   "cell_type": "code",
   "execution_count": 87,
   "id": "6d5c874b-9e33-485e-9b3c-a797787e139b",
   "metadata": {},
   "outputs": [],
   "source": [
    "source_directory = output_dir \n",
    "destination_directory = f\"{output_dir}/00_final_tables\"\n",
    "\n",
    "if not os.path.exists(destination_directory):\n",
    "    os.makedirs(destination_directory)\n",
    "\n",
    "for i in range(len(oldnames)):\n",
    "    oldfilename = oldnames[i] + '.csv'\n",
    "    newfilename = newnames[i] + '.csv'\n",
    "    source_path = os.path.join(source_directory, oldfilename)\n",
    "    destination_path = os.path.join(destination_directory, newfilename)\n",
    "\n",
    "    # Create a temporary directory\n",
    "    with tempfile.TemporaryDirectory() as temp_dir:\n",
    "        # Temporary path for the intermediate copy\n",
    "        intermediate_copy_path = os.path.join(temp_dir, oldfilename)\n",
    "\n",
    "        # Copy the file to the temporary directory\n",
    "        shutil.copy2(source_path, intermediate_copy_path)\n",
    "\n",
    "        # Move the copied file from the temporary directory to the final destination\n",
    "        shutil.move(intermediate_copy_path, destination_path)\n"
   ]
  },
  {
   "cell_type": "code",
   "execution_count": 88,
   "id": "3b06cb23-2a35-4f18-bdf6-6a1c97ed143e",
   "metadata": {},
   "outputs": [],
   "source": [
    "os.chdir(f\"{output_dir}/00_final_tables\")"
   ]
  },
  {
   "cell_type": "code",
   "execution_count": 89,
   "id": "1cd52736-e2c4-47b1-b179-ac104f592e2c",
   "metadata": {},
   "outputs": [
    {
     "name": "stdout",
     "output_type": "stream",
     "text": [
      "total 186912\n",
      "-rw-r--r--  1 steffenerickson  staff   7232131 Apr 29 19:38 BOW.csv\n",
      "-rw-r--r--  1 steffenerickson  staff   1507591 Apr 29 20:17 BOW_SENT.csv\n",
      "-rw-r--r--  1 steffenerickson  staff  31054282 Apr 29 19:38 CORPUS.csv\n",
      "-rw-r--r--  1 steffenerickson  staff     80094 Apr 29 20:17 DOC_SENT.csv\n",
      "-rw-r--r--  1 steffenerickson  staff  15526432 Apr 29 19:38 DTM.csv\n",
      "-rw-r--r--  1 steffenerickson  staff    360766 Apr 29 20:11 LDA_PHI.csv\n",
      "-rw-r--r--  1 steffenerickson  staff     65536 Apr 29 20:11 LDA_THETA.csv\n",
      "-rw-r--r--  1 steffenerickson  staff     61728 Apr 29 19:37 LIB.csv\n",
      "-rw-r--r--  1 steffenerickson  staff      1093 Apr 29 20:28 PCA_COMPONENTS.csv\n",
      "-rw-r--r--  1 steffenerickson  staff    104892 Apr 29 20:28 PCA_DCM.csv\n",
      "-rw-r--r--  1 steffenerickson  staff    221500 Apr 29 20:28 PCA_LOADINGS.csv\n",
      "-rw-r--r--  1 steffenerickson  staff  33366980 Apr 29 19:38 TFIDF.csv\n",
      "-rw-r--r--  1 steffenerickson  staff   2978607 Apr 29 19:38 TFIDF_L2.csv\n",
      "-rw-r--r--  1 steffenerickson  staff    935930 Apr 29 19:38 VOCAB.csv\n",
      "-rw-r--r--  1 steffenerickson  staff     14152 Apr 29 20:17 VOCAB_SENT.csv\n",
      "-rw-r--r--  1 steffenerickson  staff    843891 Apr 29 20:24 VOCAB_W2V_0pre.csv\n",
      "-rw-r--r--  1 steffenerickson  staff    593813 Apr 29 20:24 VOCAB_W2V_1pre.csv\n",
      "-rw-r--r--  1 steffenerickson  staff    705409 Apr 29 20:24 VOCAB_W2V_2post.csv\n"
     ]
    }
   ],
   "source": [
    "ls -l "
   ]
  },
  {
   "cell_type": "code",
   "execution_count": null,
   "id": "d133fbe5-c38a-4663-8c3f-e20497a45c16",
   "metadata": {},
   "outputs": [],
   "source": []
  }
 ],
 "metadata": {
  "kernelspec": {
   "display_name": "Python 3",
   "language": "python",
   "name": "python3"
  },
  "language_info": {
   "codemirror_mode": {
    "name": "ipython",
    "version": 3
   },
   "file_extension": ".py",
   "mimetype": "text/x-python",
   "name": "python",
   "nbconvert_exporter": "python",
   "pygments_lexer": "ipython3",
   "version": "3.8.8"
  }
 },
 "nbformat": 4,
 "nbformat_minor": 5
}
