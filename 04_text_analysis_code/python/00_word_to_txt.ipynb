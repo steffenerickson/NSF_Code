{
 "cells": [
  {
   "cell_type": "code",
   "execution_count": 1,
   "id": "13a84d6e-34e4-4a85-b10a-df3759be4fe2",
   "metadata": {},
   "outputs": [],
   "source": [
    "import os\n",
    "import shutil\n",
    "import pypandoc"
   ]
  },
  {
   "cell_type": "code",
   "execution_count": 2,
   "id": "a7b049f7-8e7a-4cf4-a522-4ed266994342",
   "metadata": {},
   "outputs": [],
   "source": [
    "# Define the source and target root directories\n",
    "source_root = '/Users/steffenerickson/Desktop/spring2024/qpp/word_documents'\n",
    "target_root = '/Users/steffenerickson/Desktop/spring2024/qpp/txt_files'"
   ]
  },
  {
   "cell_type": "code",
   "execution_count": 3,
   "id": "9a39971a-8444-4d9e-a84c-f71dabb2bbf6",
   "metadata": {},
   "outputs": [
    {
     "name": "stdout",
     "output_type": "stream",
     "text": [
      "The folder structure from /Users/steffenerickson/Desktop/spring2024/qpp/word_documents has been copied to /Users/steffenerickson/Desktop/spring2024/qpp/txt_files.\n"
     ]
    }
   ],
   "source": [
    "# Copy the file structure \n",
    "# Walk through the source directory\n",
    "for src_dir, dirs, files in os.walk(source_root):\n",
    "    # Determine the relative path from the source root directory\n",
    "    rel_path = os.path.relpath(src_dir, source_root)\n",
    "    # Create the corresponding target directory path\n",
    "    target_dir = os.path.join(target_root, rel_path)\n",
    "    \n",
    "    # Create the target directory within the target root directory\n",
    "    os.makedirs(target_dir, exist_ok=True)\n",
    "\n",
    "print(f\"The folder structure from {source_root} has been copied to {target_root}.\")"
   ]
  },
  {
   "cell_type": "code",
   "execution_count": 4,
   "id": "ab6bbb28-3be3-46c3-8d96-5f9c28f2cea3",
   "metadata": {},
   "outputs": [
    {
     "name": "stdout",
     "output_type": "stream",
     "text": [
      "Error converting /Users/steffenerickson/Desktop/spring2024/qpp/word_documents/uva/performancetasks/fall/~$_F22_001_001_P3.docx: Pandoc died with exitcode \"63\" during conversion: b\"couldn't unpack docx container: Did not find end of central directory signature\\n\". Continuing with the next file.\n",
      "Conversion completed. Word documents have been converted to text files in: /Users/steffenerickson/Desktop/spring2024/qpp/txt_files\n"
     ]
    }
   ],
   "source": [
    "# Convert Word Documents to .txt Files \n",
    "for src_dir, dirs, files in os.walk(source_root):\n",
    "    rel_path = os.path.relpath(src_dir, source_root)\n",
    "    target_dir = os.path.join(target_root, rel_path)\n",
    "    \n",
    "    # Ensure the target directory exists\n",
    "    os.makedirs(target_dir, exist_ok=True)\n",
    "    \n",
    "    for file in files:\n",
    "        if file.endswith('.docx'):\n",
    "            src_file_path = os.path.join(src_dir, file)\n",
    "            target_file_path = os.path.join(target_dir, os.path.splitext(file)[0] + '.txt')\n",
    "            \n",
    "            try:\n",
    "                # Attempt to convert the Word document to text and save it\n",
    "                pypandoc.convert_file(src_file_path, 'plain', outputfile=target_file_path)\n",
    "            except RuntimeError as e:\n",
    "                # Log or print the error message and continue with the next file\n",
    "                print(f\"Error converting {src_file_path}: {e}. Continuing with the next file.\")\n",
    "                \n",
    "print(f\"Conversion completed. Word documents have been converted to text files in: {target_root}\")"
   ]
  },
  {
   "cell_type": "code",
   "execution_count": null,
   "id": "bb8c90aa-82d5-492c-b434-763fd7482d10",
   "metadata": {},
   "outputs": [],
   "source": []
  }
 ],
 "metadata": {
  "kernelspec": {
   "display_name": "Python 3",
   "language": "python",
   "name": "python3"
  },
  "language_info": {
   "codemirror_mode": {
    "name": "ipython",
    "version": 3
   },
   "file_extension": ".py",
   "mimetype": "text/x-python",
   "name": "python",
   "nbconvert_exporter": "python",
   "pygments_lexer": "ipython3",
   "version": "3.8.8"
  }
 },
 "nbformat": 4,
 "nbformat_minor": 5
}
