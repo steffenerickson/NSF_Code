{
 "cells": [
  {
   "cell_type": "markdown",
   "id": "c662db07-847b-4d4c-939c-4d38ac0b15c4",
   "metadata": {},
   "source": [
    "## This notebook creates adds labels to the sentences and tasks tables "
   ]
  },
  {
   "cell_type": "code",
   "execution_count": 1,
   "id": "60f14ae0-300d-4545-b839-c8097b75ce89",
   "metadata": {},
   "outputs": [],
   "source": [
    "import pandas as pd\n",
    "import numpy as np\n",
    "from fuzzywuzzy import fuzz\n",
    "from fuzzywuzzy import process"
   ]
  },
  {
   "cell_type": "markdown",
   "id": "046104cc-5f5b-4091-b13f-e62fa9b2902f",
   "metadata": {},
   "source": [
    "### Config "
   ]
  },
  {
   "cell_type": "code",
   "execution_count": 2,
   "id": "6eff36ce-668e-4990-bdb5-4d740f9a0d5f",
   "metadata": {},
   "outputs": [],
   "source": [
    "import configparser\n",
    "config = configparser.ConfigParser()\n",
    "config.read(\"../../env.ini\")\n",
    "data_home  = config['DEFAULT']['data_home']\n",
    "output_dir = config['DEFAULT']['output_dir']"
   ]
  },
  {
   "cell_type": "code",
   "execution_count": 3,
   "id": "07d9152b-bdb5-401a-a29c-a0c397e2bbc0",
   "metadata": {},
   "outputs": [],
   "source": [
    "task_labels = pd.read_stata(f\"{data_home}/task_labels.dta\") \n",
    "sentence_labels = pd.read_stata(f\"{data_home}/sentence_labels.dta\") \n",
    "df_sentences = pd.read_csv(f\"{output_dir}/sentences_raw.csv\")\n",
    "df_tasks = pd.read_csv(f\"{output_dir}/tasks_raw.csv\")\n",
    "df_library = pd.read_csv(f\"{output_dir}/library.csv\")"
   ]
  },
  {
   "cell_type": "markdown",
   "id": "2cb725a2-cf02-480e-8090-54eaca4556f0",
   "metadata": {},
   "source": [
    "## Tasks"
   ]
  },
  {
   "cell_type": "code",
   "execution_count": 4,
   "id": "dfd6f485-e055-47d0-9e27-f12a6ce7f53b",
   "metadata": {},
   "outputs": [],
   "source": [
    "df_tasks_labels = pd.merge(df_tasks, task_labels, on=['personid', 'task'], how='left')"
   ]
  },
  {
   "cell_type": "code",
   "execution_count": 5,
   "id": "c2fb2e3c-9963-4a82-8b31-c6448c4bfdce",
   "metadata": {},
   "outputs": [],
   "source": [
    "df_tasks_labels.rename(columns={'coaching': 'treatment_status'}, inplace=True)"
   ]
  },
  {
   "cell_type": "code",
   "execution_count": 6,
   "id": "512a194e-ec64-4886-a538-2756e7508a4b",
   "metadata": {},
   "outputs": [],
   "source": [
    "df_tasks_labels['avg_score'] = df_tasks_labels[['objective', \\\n",
    "                                                'unpacking',\\\n",
    "                                                'selfinstruction',\\\n",
    "                                                'selfregulation',\\\n",
    "                                                'ending',\\\n",
    "                                                'accuracy']].mean(axis=1)"
   ]
  },
  {
   "cell_type": "code",
   "execution_count": 7,
   "id": "e21cc9d4-ffed-4ec4-bc6b-06c07a3d7f39",
   "metadata": {},
   "outputs": [
    {
     "data": {
      "text/plain": [
       "1180"
      ]
     },
     "execution_count": 7,
     "metadata": {},
     "output_type": "execute_result"
    }
   ],
   "source": [
    "df_tasks_labels.shape[0]"
   ]
  },
  {
   "cell_type": "markdown",
   "id": "4398cdc6-4cdc-4978-af69-a811585ab397",
   "metadata": {},
   "source": [
    "## Sentences "
   ]
  },
  {
   "cell_type": "code",
   "execution_count": 8,
   "id": "a3af401d-4b14-44ec-884b-943e7815d2c3",
   "metadata": {},
   "outputs": [],
   "source": [
    "def get_matches(query, choices, score_cutoff=70):\n",
    "    \"\"\"\n",
    "    Returns the best match in `choices` for each element in `query`, if above the score cutoff.\n",
    "    :param query: A list of strings to match.\n",
    "    :param choices: A list of strings to be matched against.\n",
    "    :param score_cutoff: The minimum score threshold for considering a match (0-100).\n",
    "    \"\"\"\n",
    "    results = []\n",
    "    for name in query:\n",
    "        # Use extractOne with a score_cutoff\n",
    "        match = process.extractOne(name, choices, scorer=fuzz.token_sort_ratio, score_cutoff=score_cutoff)\n",
    "        if match:\n",
    "            results.append((name, match[0], match[1]))\n",
    "        else:\n",
    "            results.append((name, None, 0))  # Handle no match case\n",
    "    return pd.DataFrame(results, columns=['Query', 'Best match', 'Score'])"
   ]
  },
  {
   "cell_type": "code",
   "execution_count": 9,
   "id": "70174688-e4b5-4c4f-9921-c3115ff3f27c",
   "metadata": {},
   "outputs": [
    {
     "data": {
      "text/html": [
       "<div>\n",
       "<style scoped>\n",
       "    .dataframe tbody tr th:only-of-type {\n",
       "        vertical-align: middle;\n",
       "    }\n",
       "\n",
       "    .dataframe tbody tr th {\n",
       "        vertical-align: top;\n",
       "    }\n",
       "\n",
       "    .dataframe thead th {\n",
       "        text-align: right;\n",
       "    }\n",
       "</style>\n",
       "<table border=\"1\" class=\"dataframe\">\n",
       "  <thead>\n",
       "    <tr style=\"text-align: right;\">\n",
       "      <th></th>\n",
       "      <th>personid</th>\n",
       "      <th>task</th>\n",
       "      <th>sent_num</th>\n",
       "      <th>sent_str</th>\n",
       "    </tr>\n",
       "  </thead>\n",
       "  <tbody>\n",
       "    <tr>\n",
       "      <th>0</th>\n",
       "      <td>JMU_F22_002</td>\n",
       "      <td>P1</td>\n",
       "      <td>0</td>\n",
       "      <td>Okay, so today, we're going to do a word prob...</td>\n",
       "    </tr>\n",
       "    <tr>\n",
       "      <th>1</th>\n",
       "      <td>JMU_F22_002</td>\n",
       "      <td>P1</td>\n",
       "      <td>1</td>\n",
       "      <td>And we're going to try to make sense of this w...</td>\n",
       "    </tr>\n",
       "    <tr>\n",
       "      <th>2</th>\n",
       "      <td>JMU_F22_002</td>\n",
       "      <td>P1</td>\n",
       "      <td>2</td>\n",
       "      <td>Okay.</td>\n",
       "    </tr>\n",
       "    <tr>\n",
       "      <th>3</th>\n",
       "      <td>JMU_F22_002</td>\n",
       "      <td>P1</td>\n",
       "      <td>3</td>\n",
       "      <td>So, our problem says that Ava's mom, so Ava's ...</td>\n",
       "    </tr>\n",
       "    <tr>\n",
       "      <th>4</th>\n",
       "      <td>JMU_F22_002</td>\n",
       "      <td>P1</td>\n",
       "      <td>4</td>\n",
       "      <td>Okay.</td>\n",
       "    </tr>\n",
       "    <tr>\n",
       "      <th>...</th>\n",
       "      <td>...</td>\n",
       "      <td>...</td>\n",
       "      <td>...</td>\n",
       "      <td>...</td>\n",
       "    </tr>\n",
       "    <tr>\n",
       "      <th>44901</th>\n",
       "      <td>UVA_S23_027</td>\n",
       "      <td>Placement</td>\n",
       "      <td>37</td>\n",
       "      <td>I don't know what world Cody's living in but t...</td>\n",
       "    </tr>\n",
       "    <tr>\n",
       "      <th>44902</th>\n",
       "      <td>UVA_S23_027</td>\n",
       "      <td>Placement</td>\n",
       "      <td>38</td>\n",
       "      <td>I'm sorry $1 They can either sell all tomatoes...</td>\n",
       "    </tr>\n",
       "    <tr>\n",
       "      <th>44903</th>\n",
       "      <td>UVA_S23_027</td>\n",
       "      <td>Placement</td>\n",
       "      <td>39</td>\n",
       "      <td>Let's say we're trying to be the most efficien...</td>\n",
       "    </tr>\n",
       "    <tr>\n",
       "      <th>44904</th>\n",
       "      <td>UVA_S23_027</td>\n",
       "      <td>Placement</td>\n",
       "      <td>40</td>\n",
       "      <td>What is the smallest number of tomatoes and pu...</td>\n",
       "    </tr>\n",
       "    <tr>\n",
       "      <th>44905</th>\n",
       "      <td>UVA_S23_027</td>\n",
       "      <td>Placement</td>\n",
       "      <td>41</td>\n",
       "      <td>You feel like if they have been through it 12:53</td>\n",
       "    </tr>\n",
       "  </tbody>\n",
       "</table>\n",
       "<p>44906 rows × 4 columns</p>\n",
       "</div>"
      ],
      "text/plain": [
       "          personid       task  sent_num  \\\n",
       "0      JMU_F22_002         P1         0   \n",
       "1      JMU_F22_002         P1         1   \n",
       "2      JMU_F22_002         P1         2   \n",
       "3      JMU_F22_002         P1         3   \n",
       "4      JMU_F22_002         P1         4   \n",
       "...            ...        ...       ...   \n",
       "44901  UVA_S23_027  Placement        37   \n",
       "44902  UVA_S23_027  Placement        38   \n",
       "44903  UVA_S23_027  Placement        39   \n",
       "44904  UVA_S23_027  Placement        40   \n",
       "44905  UVA_S23_027  Placement        41   \n",
       "\n",
       "                                                sent_str  \n",
       "0       Okay, so today, we're going to do a word prob...  \n",
       "1      And we're going to try to make sense of this w...  \n",
       "2                                                  Okay.  \n",
       "3      So, our problem says that Ava's mom, so Ava's ...  \n",
       "4                                                  Okay.  \n",
       "...                                                  ...  \n",
       "44901  I don't know what world Cody's living in but t...  \n",
       "44902  I'm sorry $1 They can either sell all tomatoes...  \n",
       "44903  Let's say we're trying to be the most efficien...  \n",
       "44904  What is the smallest number of tomatoes and pu...  \n",
       "44905   You feel like if they have been through it 12:53  \n",
       "\n",
       "[44906 rows x 4 columns]"
      ]
     },
     "execution_count": 9,
     "metadata": {},
     "output_type": "execute_result"
    }
   ],
   "source": [
    "df_sentences"
   ]
  },
  {
   "cell_type": "code",
   "execution_count": 10,
   "id": "1e5e69e6-5499-4103-bb5a-0c0584af82ec",
   "metadata": {},
   "outputs": [],
   "source": [
    "#matches = get_matches(df_sentences['sent_str'], sentence_labels['sent_str'])\n",
    "#matches.to_csv(f\"{output_dir}/sentence_matches.csv\", index=True)"
   ]
  },
  {
   "cell_type": "code",
   "execution_count": 11,
   "id": "2f7f0ca6-fcc3-4f40-99ec-aea7dfc36197",
   "metadata": {},
   "outputs": [
    {
     "data": {
      "text/html": [
       "<div>\n",
       "<style scoped>\n",
       "    .dataframe tbody tr th:only-of-type {\n",
       "        vertical-align: middle;\n",
       "    }\n",
       "\n",
       "    .dataframe tbody tr th {\n",
       "        vertical-align: top;\n",
       "    }\n",
       "\n",
       "    .dataframe thead th {\n",
       "        text-align: right;\n",
       "    }\n",
       "</style>\n",
       "<table border=\"1\" class=\"dataframe\">\n",
       "  <thead>\n",
       "    <tr style=\"text-align: right;\">\n",
       "      <th></th>\n",
       "      <th>Unnamed: 0</th>\n",
       "      <th>Query</th>\n",
       "      <th>Best match</th>\n",
       "      <th>Score</th>\n",
       "    </tr>\n",
       "  </thead>\n",
       "  <tbody>\n",
       "    <tr>\n",
       "      <th>0</th>\n",
       "      <td>0</td>\n",
       "      <td>Okay, so today, we're going to do a word prob...</td>\n",
       "      <td>So today, we're going to do a word problem.</td>\n",
       "      <td>94</td>\n",
       "    </tr>\n",
       "    <tr>\n",
       "      <th>1</th>\n",
       "      <td>1</td>\n",
       "      <td>And we're going to try to make sense of this w...</td>\n",
       "      <td>And we're going to try to make sense of this w...</td>\n",
       "      <td>98</td>\n",
       "    </tr>\n",
       "    <tr>\n",
       "      <th>2</th>\n",
       "      <td>2</td>\n",
       "      <td>Okay.</td>\n",
       "      <td>Okay.</td>\n",
       "      <td>100</td>\n",
       "    </tr>\n",
       "    <tr>\n",
       "      <th>3</th>\n",
       "      <td>3</td>\n",
       "      <td>So, our problem says that Ava's mom, so Ava's ...</td>\n",
       "      <td>So our problem says that Ava's mom is 28 years...</td>\n",
       "      <td>88</td>\n",
       "    </tr>\n",
       "    <tr>\n",
       "      <th>4</th>\n",
       "      <td>4</td>\n",
       "      <td>Okay.</td>\n",
       "      <td>Okay.</td>\n",
       "      <td>100</td>\n",
       "    </tr>\n",
       "  </tbody>\n",
       "</table>\n",
       "</div>"
      ],
      "text/plain": [
       "   Unnamed: 0                                              Query  \\\n",
       "0           0   Okay, so today, we're going to do a word prob...   \n",
       "1           1  And we're going to try to make sense of this w...   \n",
       "2           2                                              Okay.   \n",
       "3           3  So, our problem says that Ava's mom, so Ava's ...   \n",
       "4           4                                              Okay.   \n",
       "\n",
       "                                          Best match  Score  \n",
       "0        So today, we're going to do a word problem.     94  \n",
       "1  And we're going to try to make sense of this w...     98  \n",
       "2                                              Okay.    100  \n",
       "3  So our problem says that Ava's mom is 28 years...     88  \n",
       "4                                              Okay.    100  "
      ]
     },
     "execution_count": 11,
     "metadata": {},
     "output_type": "execute_result"
    }
   ],
   "source": [
    "matches = pd.read_csv(f\"{output_dir}/sentence_matches.csv\")\n",
    "matches.head(5)"
   ]
  },
  {
   "cell_type": "code",
   "execution_count": 12,
   "id": "627176cf-8ac0-4270-8674-5f8e2e3f0068",
   "metadata": {},
   "outputs": [],
   "source": [
    "df_sentences['Matched Name'] = matches['Best match']"
   ]
  },
  {
   "cell_type": "code",
   "execution_count": 13,
   "id": "d2a92232-ac05-4f4f-8d73-2815618b7702",
   "metadata": {},
   "outputs": [],
   "source": [
    "# Merge and handle unmatched cases\n",
    "df_sentences_labels_temp = pd.merge(df_sentences, sentence_labels , left_on = 'Matched Name',right_on = 'sent_str', how='left')"
   ]
  },
  {
   "cell_type": "code",
   "execution_count": 14,
   "id": "abb14d97-7002-4ebd-b353-5ce1b27b5805",
   "metadata": {},
   "outputs": [
    {
     "data": {
      "text/plain": [
       "96367"
      ]
     },
     "execution_count": 14,
     "metadata": {},
     "output_type": "execute_result"
    }
   ],
   "source": [
    "df_sentences_labels_temp.shape[0]"
   ]
  },
  {
   "cell_type": "code",
   "execution_count": 15,
   "id": "f757821f-f2c5-4edb-be78-1a49552420c3",
   "metadata": {},
   "outputs": [],
   "source": [
    "df_sentences_labels_temp = df_sentences_labels_temp [['personid', 'task','sent_num','sent_str_x',\\\n",
    "                                            'objective','unpacking','selfinstruction',\\\n",
    "                                            'selfregulation','ending']]"
   ]
  },
  {
   "cell_type": "code",
   "execution_count": 16,
   "id": "b088653b-b23d-4d95-ba10-1c1025d02ace",
   "metadata": {},
   "outputs": [],
   "source": [
    "df_sentences_labels_temp = df_sentences_labels_temp.drop_duplicates(subset=['personid', 'task', 'sent_num'], keep='first')"
   ]
  },
  {
   "cell_type": "code",
   "execution_count": 17,
   "id": "dc6cac8a-7a41-4ca4-8150-c37c6ec4ea10",
   "metadata": {},
   "outputs": [
    {
     "data": {
      "text/plain": [
       "42090"
      ]
     },
     "execution_count": 17,
     "metadata": {},
     "output_type": "execute_result"
    }
   ],
   "source": [
    "df_sentences_labels_temp.shape[0]"
   ]
  },
  {
   "cell_type": "code",
   "execution_count": 18,
   "id": "efd43036-c15b-4104-9858-f9f19dc00d91",
   "metadata": {},
   "outputs": [],
   "source": [
    "df_sentences_labels = pd.merge(df_sentences[['sent_str','personid', 'task','sent_num']],\n",
    "                        df_sentences_labels_temp[['objective', 'unpacking', 'selfinstruction', 'selfregulation', 'ending','personid', 'task','sent_num']],\n",
    "                        on=['personid', 'task','sent_num'],  \n",
    "                        how='left')"
   ]
  },
  {
   "cell_type": "code",
   "execution_count": 19,
   "id": "0929cc46-3701-4a5e-8440-6721dbdc4f82",
   "metadata": {},
   "outputs": [
    {
     "data": {
      "text/plain": [
       "44906"
      ]
     },
     "execution_count": 19,
     "metadata": {},
     "output_type": "execute_result"
    }
   ],
   "source": [
    "df_sentences_labels.shape[0]"
   ]
  },
  {
   "cell_type": "markdown",
   "id": "bfc19446-284e-4031-9050-9058d0976d25",
   "metadata": {},
   "source": [
    "## Add labels from tasks dataframe to the library file "
   ]
  },
  {
   "cell_type": "code",
   "execution_count": 20,
   "id": "6496d04c-3d3d-4f80-9778-8f3790859524",
   "metadata": {},
   "outputs": [],
   "source": [
    "df_library2 =   pd.merge(df_library, df_tasks_labels[[ 'personid', 'task','treatment_status','time',\\\n",
    "                                                      'objective','unpacking','selfinstruction',\\\n",
    "                                                      'selfregulation','ending','accuracy','avg_score']], \\\n",
    "                         on=['personid', 'task'],how='left')"
   ]
  },
  {
   "cell_type": "code",
   "execution_count": 21,
   "id": "3dc66c5c-b780-4387-ac2e-3fe9821e5727",
   "metadata": {},
   "outputs": [],
   "source": [
    "df_library2.rename(columns={'time': 'session'}, inplace=True)"
   ]
  },
  {
   "cell_type": "code",
   "execution_count": 22,
   "id": "9b2b0e57-10bf-44b6-ad41-f847575d4c86",
   "metadata": {},
   "outputs": [
    {
     "data": {
      "text/plain": [
       "1358"
      ]
     },
     "execution_count": 22,
     "metadata": {},
     "output_type": "execute_result"
    }
   ],
   "source": [
    "df_library2.shape[0]"
   ]
  },
  {
   "cell_type": "code",
   "execution_count": 23,
   "id": "10007c31-1591-44b1-add4-2349800d699e",
   "metadata": {},
   "outputs": [
    {
     "data": {
      "text/plain": [
       "1180"
      ]
     },
     "execution_count": 23,
     "metadata": {},
     "output_type": "execute_result"
    }
   ],
   "source": [
    "df_tasks_labels.shape[0]"
   ]
  },
  {
   "cell_type": "markdown",
   "id": "9a48c9b7-3481-4bdc-a9b9-d7b06e1545ee",
   "metadata": {},
   "source": [
    "## Person by time level library "
   ]
  },
  {
   "cell_type": "code",
   "execution_count": 24,
   "id": "7e6c3bc6-c2d0-4a18-a9f4-f2c78fcb11a8",
   "metadata": {},
   "outputs": [
    {
     "data": {
      "text/html": [
       "<div>\n",
       "<style scoped>\n",
       "    .dataframe tbody tr th:only-of-type {\n",
       "        vertical-align: middle;\n",
       "    }\n",
       "\n",
       "    .dataframe tbody tr th {\n",
       "        vertical-align: top;\n",
       "    }\n",
       "\n",
       "    .dataframe thead th {\n",
       "        text-align: right;\n",
       "    }\n",
       "</style>\n",
       "<table border=\"1\" class=\"dataframe\">\n",
       "  <thead>\n",
       "    <tr style=\"text-align: right;\">\n",
       "      <th></th>\n",
       "      <th>personid</th>\n",
       "      <th>session</th>\n",
       "      <th>objective</th>\n",
       "      <th>unpacking</th>\n",
       "      <th>selfinstruction</th>\n",
       "      <th>selfregulation</th>\n",
       "      <th>ending</th>\n",
       "      <th>accuracy</th>\n",
       "      <th>avg_score</th>\n",
       "      <th>metadata</th>\n",
       "      <th>site</th>\n",
       "      <th>course</th>\n",
       "      <th>treatment_status</th>\n",
       "    </tr>\n",
       "  </thead>\n",
       "  <tbody>\n",
       "    <tr>\n",
       "      <th>453</th>\n",
       "      <td>UVA_S23_024</td>\n",
       "      <td>1.0</td>\n",
       "      <td>2.000000</td>\n",
       "      <td>1.166667</td>\n",
       "      <td>1.0</td>\n",
       "      <td>1.000000</td>\n",
       "      <td>1.000000</td>\n",
       "      <td>2.333333</td>\n",
       "      <td>1.416667</td>\n",
       "      <td>Wed, May 10, 2023 5:18PM • 4:25</td>\n",
       "      <td>UVA</td>\n",
       "      <td>S23</td>\n",
       "      <td>Control</td>\n",
       "    </tr>\n",
       "    <tr>\n",
       "      <th>454</th>\n",
       "      <td>UVA_S23_024</td>\n",
       "      <td>2.0</td>\n",
       "      <td>2.000000</td>\n",
       "      <td>2.000000</td>\n",
       "      <td>1.5</td>\n",
       "      <td>1.000000</td>\n",
       "      <td>3.000000</td>\n",
       "      <td>2.000000</td>\n",
       "      <td>1.916667</td>\n",
       "      <td>Fri, May 19, 2023 10:54AM • 20:51</td>\n",
       "      <td>UVA</td>\n",
       "      <td>S23</td>\n",
       "      <td>Control</td>\n",
       "    </tr>\n",
       "    <tr>\n",
       "      <th>455</th>\n",
       "      <td>UVA_S23_025</td>\n",
       "      <td>0.0</td>\n",
       "      <td>1.000000</td>\n",
       "      <td>1.000000</td>\n",
       "      <td>1.0</td>\n",
       "      <td>1.000000</td>\n",
       "      <td>1.000000</td>\n",
       "      <td>1.833333</td>\n",
       "      <td>1.138889</td>\n",
       "      <td>Sun, Feb 12, 2023 10:29AM • 5:00</td>\n",
       "      <td>UVA</td>\n",
       "      <td>S23</td>\n",
       "      <td>Treatment</td>\n",
       "    </tr>\n",
       "    <tr>\n",
       "      <th>456</th>\n",
       "      <td>UVA_S23_025</td>\n",
       "      <td>1.0</td>\n",
       "      <td>2.166667</td>\n",
       "      <td>1.500000</td>\n",
       "      <td>1.0</td>\n",
       "      <td>1.000000</td>\n",
       "      <td>1.000000</td>\n",
       "      <td>1.833333</td>\n",
       "      <td>1.416667</td>\n",
       "      <td>Wed, May 10, 2023 5:16PM • 3:37</td>\n",
       "      <td>UVA</td>\n",
       "      <td>S23</td>\n",
       "      <td>Treatment</td>\n",
       "    </tr>\n",
       "    <tr>\n",
       "      <th>457</th>\n",
       "      <td>UVA_S23_025</td>\n",
       "      <td>2.0</td>\n",
       "      <td>2.500000</td>\n",
       "      <td>1.000000</td>\n",
       "      <td>2.0</td>\n",
       "      <td>1.500000</td>\n",
       "      <td>1.500000</td>\n",
       "      <td>2.000000</td>\n",
       "      <td>1.750000</td>\n",
       "      <td>Fri, May 19, 2023 10:54AM • 26:09</td>\n",
       "      <td>UVA</td>\n",
       "      <td>S23</td>\n",
       "      <td>Treatment</td>\n",
       "    </tr>\n",
       "    <tr>\n",
       "      <th>458</th>\n",
       "      <td>UVA_S23_026</td>\n",
       "      <td>0.0</td>\n",
       "      <td>1.000000</td>\n",
       "      <td>1.000000</td>\n",
       "      <td>1.0</td>\n",
       "      <td>1.166667</td>\n",
       "      <td>1.000000</td>\n",
       "      <td>1.500000</td>\n",
       "      <td>1.111111</td>\n",
       "      <td>Sat, Feb 11, 2023 7:47PM • 0:01</td>\n",
       "      <td>UVA</td>\n",
       "      <td>S23</td>\n",
       "      <td>Control</td>\n",
       "    </tr>\n",
       "    <tr>\n",
       "      <th>459</th>\n",
       "      <td>UVA_S23_026</td>\n",
       "      <td>1.0</td>\n",
       "      <td>1.000000</td>\n",
       "      <td>1.000000</td>\n",
       "      <td>1.0</td>\n",
       "      <td>1.000000</td>\n",
       "      <td>1.166667</td>\n",
       "      <td>1.333333</td>\n",
       "      <td>1.083333</td>\n",
       "      <td>Wed, May 10, 2023 5:15PM • 0:01</td>\n",
       "      <td>UVA</td>\n",
       "      <td>S23</td>\n",
       "      <td>Control</td>\n",
       "    </tr>\n",
       "    <tr>\n",
       "      <th>460</th>\n",
       "      <td>UVA_S23_026</td>\n",
       "      <td>2.0</td>\n",
       "      <td>1.000000</td>\n",
       "      <td>1.000000</td>\n",
       "      <td>1.0</td>\n",
       "      <td>1.000000</td>\n",
       "      <td>1.333333</td>\n",
       "      <td>1.833333</td>\n",
       "      <td>1.194444</td>\n",
       "      <td>Fri, May 19, 2023 10:55AM • 27:12</td>\n",
       "      <td>UVA</td>\n",
       "      <td>S23</td>\n",
       "      <td>Control</td>\n",
       "    </tr>\n",
       "    <tr>\n",
       "      <th>461</th>\n",
       "      <td>UVA_S23_027</td>\n",
       "      <td>0.0</td>\n",
       "      <td>1.000000</td>\n",
       "      <td>1.166667</td>\n",
       "      <td>1.0</td>\n",
       "      <td>1.000000</td>\n",
       "      <td>1.000000</td>\n",
       "      <td>2.333333</td>\n",
       "      <td>1.250000</td>\n",
       "      <td>Sun, Feb 12, 2023 10:31AM • 4:40</td>\n",
       "      <td>UVA</td>\n",
       "      <td>S23</td>\n",
       "      <td>Control</td>\n",
       "    </tr>\n",
       "    <tr>\n",
       "      <th>462</th>\n",
       "      <td>UVA_S23_027</td>\n",
       "      <td>1.0</td>\n",
       "      <td>1.000000</td>\n",
       "      <td>1.500000</td>\n",
       "      <td>1.0</td>\n",
       "      <td>1.000000</td>\n",
       "      <td>1.000000</td>\n",
       "      <td>1.833333</td>\n",
       "      <td>1.222222</td>\n",
       "      <td>Wed, May 10, 2023 5:12PM • 3:31</td>\n",
       "      <td>UVA</td>\n",
       "      <td>S23</td>\n",
       "      <td>Control</td>\n",
       "    </tr>\n",
       "  </tbody>\n",
       "</table>\n",
       "</div>"
      ],
      "text/plain": [
       "        personid  session  objective  unpacking  selfinstruction  \\\n",
       "453  UVA_S23_024      1.0   2.000000   1.166667              1.0   \n",
       "454  UVA_S23_024      2.0   2.000000   2.000000              1.5   \n",
       "455  UVA_S23_025      0.0   1.000000   1.000000              1.0   \n",
       "456  UVA_S23_025      1.0   2.166667   1.500000              1.0   \n",
       "457  UVA_S23_025      2.0   2.500000   1.000000              2.0   \n",
       "458  UVA_S23_026      0.0   1.000000   1.000000              1.0   \n",
       "459  UVA_S23_026      1.0   1.000000   1.000000              1.0   \n",
       "460  UVA_S23_026      2.0   1.000000   1.000000              1.0   \n",
       "461  UVA_S23_027      0.0   1.000000   1.166667              1.0   \n",
       "462  UVA_S23_027      1.0   1.000000   1.500000              1.0   \n",
       "\n",
       "     selfregulation    ending  accuracy  avg_score  \\\n",
       "453        1.000000  1.000000  2.333333   1.416667   \n",
       "454        1.000000  3.000000  2.000000   1.916667   \n",
       "455        1.000000  1.000000  1.833333   1.138889   \n",
       "456        1.000000  1.000000  1.833333   1.416667   \n",
       "457        1.500000  1.500000  2.000000   1.750000   \n",
       "458        1.166667  1.000000  1.500000   1.111111   \n",
       "459        1.000000  1.166667  1.333333   1.083333   \n",
       "460        1.000000  1.333333  1.833333   1.194444   \n",
       "461        1.000000  1.000000  2.333333   1.250000   \n",
       "462        1.000000  1.000000  1.833333   1.222222   \n",
       "\n",
       "                              metadata site course treatment_status  \n",
       "453    Wed, May 10, 2023 5:18PM • 4:25  UVA    S23          Control  \n",
       "454  Fri, May 19, 2023 10:54AM • 20:51  UVA    S23          Control  \n",
       "455   Sun, Feb 12, 2023 10:29AM • 5:00  UVA    S23        Treatment  \n",
       "456    Wed, May 10, 2023 5:16PM • 3:37  UVA    S23        Treatment  \n",
       "457  Fri, May 19, 2023 10:54AM • 26:09  UVA    S23        Treatment  \n",
       "458    Sat, Feb 11, 2023 7:47PM • 0:01  UVA    S23          Control  \n",
       "459    Wed, May 10, 2023 5:15PM • 0:01  UVA    S23          Control  \n",
       "460  Fri, May 19, 2023 10:55AM • 27:12  UVA    S23          Control  \n",
       "461   Sun, Feb 12, 2023 10:31AM • 4:40  UVA    S23          Control  \n",
       "462    Wed, May 10, 2023 5:12PM • 3:31  UVA    S23          Control  "
      ]
     },
     "execution_count": 24,
     "metadata": {},
     "output_type": "execute_result"
    }
   ],
   "source": [
    "aggregation_functions = {\n",
    "    'objective': 'mean',\n",
    "    'unpacking': 'mean',\n",
    "    'selfinstruction': 'mean',\n",
    "    'selfregulation': 'mean',\n",
    "    'ending': 'mean',\n",
    "    'accuracy': 'mean',\n",
    "    'avg_score': 'mean',\n",
    "    # For string columns, we take the first value\n",
    "    # Add other string columns as needed\n",
    "    'metadata': 'first',\n",
    "    'site': 'first',\n",
    "    'course': 'first',\n",
    "    'treatment_status': 'first',\n",
    "}\n",
    "\n",
    "# Group the data by 'personid' and 'time' and apply the aggregation\n",
    "library_person_time = df_library2.groupby(['personid', 'session']).agg(aggregation_functions).reset_index()\n",
    "\n",
    "# Display the first few rows of the grouped dataframe\n",
    "library_person_time.tail(10)"
   ]
  },
  {
   "cell_type": "markdown",
   "id": "bd3d8f54-9b1c-4e9c-b3b2-d822f8a436b3",
   "metadata": {},
   "source": [
    "## Save Data"
   ]
  },
  {
   "cell_type": "code",
   "execution_count": 25,
   "id": "bf1498e6-21fb-4e98-9b95-6dccfbf0752f",
   "metadata": {},
   "outputs": [],
   "source": [
    "df_tasks_labels.to_csv(f\"{output_dir}/df_tasks_labels.csv\", index=True)\n",
    "df_sentences_labels.to_csv(f\"{output_dir}/df_sentences_labels.csv\", index=True)\n",
    "df_library2.to_csv(f\"{output_dir}/library_with_scores.csv\", index=True)\n",
    "library_person_time.to_csv(f\"{output_dir}/library_personbysession.csv\", index=False)"
   ]
  },
  {
   "cell_type": "code",
   "execution_count": null,
   "id": "ed36b61d-67f2-417d-b89a-1524753e1452",
   "metadata": {},
   "outputs": [],
   "source": []
  }
 ],
 "metadata": {
  "kernelspec": {
   "display_name": "Python 3",
   "language": "python",
   "name": "python3"
  },
  "language_info": {
   "codemirror_mode": {
    "name": "ipython",
    "version": 3
   },
   "file_extension": ".py",
   "mimetype": "text/x-python",
   "name": "python",
   "nbconvert_exporter": "python",
   "pygments_lexer": "ipython3",
   "version": "3.8.8"
  }
 },
 "nbformat": 4,
 "nbformat_minor": 5
}
