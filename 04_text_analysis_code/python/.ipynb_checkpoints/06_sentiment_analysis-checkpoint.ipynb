{
 "cells": [
  {
   "cell_type": "markdown",
   "id": "10944757-f507-47d7-8395-4ce06dd6d0e2",
   "metadata": {},
   "source": [
    "## This notebook uses curated lexicons to explore sentiment in the text"
   ]
  },
  {
   "cell_type": "code",
   "execution_count": 233,
   "id": "99d45349-ef16-4132-aa3c-24380a2297c6",
   "metadata": {},
   "outputs": [],
   "source": [
    "import pandas as pd\n",
    "import numpy as np\n",
    "import seaborn as sns\n",
    "import plotly_express as px\n",
    "from IPython.display import display, HTML"
   ]
  },
  {
   "cell_type": "markdown",
   "id": "89ed9eed-7f1b-461d-ab19-e5401a8a2835",
   "metadata": {},
   "source": [
    "## Config "
   ]
  },
  {
   "cell_type": "code",
   "execution_count": 234,
   "id": "174496bf-ed24-497d-b53f-4a9c9f445284",
   "metadata": {},
   "outputs": [],
   "source": [
    "import configparser\n",
    "config = configparser.ConfigParser()\n",
    "config.read(\"../../env.ini\")\n",
    "data_home  = config['DEFAULT']['data_home']\n",
    "output_dir = config['DEFAULT']['output_dir']"
   ]
  },
  {
   "cell_type": "markdown",
   "id": "bcf7b2d3-52a7-4a11-ba71-4244fa4d1edd",
   "metadata": {},
   "source": [
    "## Data "
   ]
  },
  {
   "cell_type": "code",
   "execution_count": 235,
   "id": "0b15ebfa-2266-49ba-a432-dc659fbefc71",
   "metadata": {},
   "outputs": [],
   "source": [
    "OHCO = ['personid','session','task', 'sent_num', 'token_num']\n",
    "sent_num = OHCO[:4]\n",
    "task = OHCO[:3]\n",
    "session = OHCO[:2]\n",
    "personid = OHCO[:1]"
   ]
  },
  {
   "cell_type": "code",
   "execution_count": 236,
   "id": "61cf5d28-c4d1-4c49-bf64-8b2490ddc474",
   "metadata": {},
   "outputs": [],
   "source": [
    "#lib = pd.read_csv(f\"{output_dir}/library_with_scores.csv\")\n",
    "lib = pd.read_csv(f\"{output_dir}/library_personbysession.csv\")\n",
    "lib['treatment_by_session'] = lib['treatment_status'].astype(str) + '_' + lib['session'].astype(str)\n",
    "lib = lib.set_index(session)\n",
    "lib['mean_score_session'] = lib.groupby('session')['avg_score'].transform('mean')\n",
    "lib['score_above_mean'] = np.where(lib['avg_score'] > lib['mean_score_session'], 1, 0)\n",
    "labels = ['score_above_mean']\n",
    "\n",
    "# vocab\n",
    "vocab = pd.read_csv(f\"{output_dir}/vocab.csv\").set_index('term_str')\n",
    "filter = vocab.loc[vocab.max_pos.isin(pos_list)]\\\n",
    "    .sort_values('dfidf', ascending=False)\\\n",
    "    .head(1000).index\n",
    "vocab = vocab.loc[vocab.index.isin(filter )].copy()\n",
    "# bow \n",
    "bow = pd.read_csv(f\"{output_dir}/bow.csv\").set_index(task)"
   ]
  },
  {
   "cell_type": "code",
   "execution_count": 237,
   "id": "7ed9860f-fa49-4e78-8840-44c16f615647",
   "metadata": {},
   "outputs": [],
   "source": [
    "salex_csv = f'{data_home}/lexicons/salex_nrc.csv'\n",
    "nrc_cols = \"nrc_negative nrc_positive nrc_anger nrc_anticipation nrc_disgust nrc_fear nrc_joy nrc_sadness nrc_surprise nrc_trust\".split()\n",
    "# emo = 'polarity'\n",
    "emo = 'sentiment'"
   ]
  },
  {
   "cell_type": "markdown",
   "id": "24b0c414-c124-4963-834e-6a32cc16d6aa",
   "metadata": {},
   "source": [
    "## Lexicon"
   ]
  },
  {
   "cell_type": "code",
   "execution_count": 238,
   "id": "d9bf642f-b029-41f6-a9a7-dbe599b34771",
   "metadata": {},
   "outputs": [],
   "source": [
    "salex = pd.read_csv(salex_csv).set_index('term_str')\n",
    "salex.columns = [col.replace('nrc_','') for col in salex.columns]"
   ]
  },
  {
   "cell_type": "code",
   "execution_count": 239,
   "id": "b15f5648-e45b-4c67-8333-d5e2d341022d",
   "metadata": {},
   "outputs": [
    {
     "data": {
      "text/html": [
       "<div>\n",
       "<style scoped>\n",
       "    .dataframe tbody tr th:only-of-type {\n",
       "        vertical-align: middle;\n",
       "    }\n",
       "\n",
       "    .dataframe tbody tr th {\n",
       "        vertical-align: top;\n",
       "    }\n",
       "\n",
       "    .dataframe thead th {\n",
       "        text-align: right;\n",
       "    }\n",
       "</style>\n",
       "<table border=\"1\" class=\"dataframe\">\n",
       "  <thead>\n",
       "    <tr style=\"text-align: right;\">\n",
       "      <th></th>\n",
       "      <th>anger</th>\n",
       "      <th>anticipation</th>\n",
       "      <th>disgust</th>\n",
       "      <th>fear</th>\n",
       "      <th>joy</th>\n",
       "      <th>negative</th>\n",
       "      <th>positive</th>\n",
       "      <th>sadness</th>\n",
       "      <th>surprise</th>\n",
       "      <th>trust</th>\n",
       "      <th>sentiment</th>\n",
       "    </tr>\n",
       "    <tr>\n",
       "      <th>term_str</th>\n",
       "      <th></th>\n",
       "      <th></th>\n",
       "      <th></th>\n",
       "      <th></th>\n",
       "      <th></th>\n",
       "      <th></th>\n",
       "      <th></th>\n",
       "      <th></th>\n",
       "      <th></th>\n",
       "      <th></th>\n",
       "      <th></th>\n",
       "    </tr>\n",
       "  </thead>\n",
       "  <tbody>\n",
       "    <tr>\n",
       "      <th>abandon</th>\n",
       "      <td>0</td>\n",
       "      <td>0</td>\n",
       "      <td>0</td>\n",
       "      <td>1</td>\n",
       "      <td>0</td>\n",
       "      <td>1</td>\n",
       "      <td>0</td>\n",
       "      <td>1</td>\n",
       "      <td>0</td>\n",
       "      <td>0</td>\n",
       "      <td>-1</td>\n",
       "    </tr>\n",
       "    <tr>\n",
       "      <th>abandoned</th>\n",
       "      <td>1</td>\n",
       "      <td>0</td>\n",
       "      <td>0</td>\n",
       "      <td>1</td>\n",
       "      <td>0</td>\n",
       "      <td>1</td>\n",
       "      <td>0</td>\n",
       "      <td>1</td>\n",
       "      <td>0</td>\n",
       "      <td>0</td>\n",
       "      <td>-1</td>\n",
       "    </tr>\n",
       "    <tr>\n",
       "      <th>abandonment</th>\n",
       "      <td>1</td>\n",
       "      <td>0</td>\n",
       "      <td>0</td>\n",
       "      <td>1</td>\n",
       "      <td>0</td>\n",
       "      <td>1</td>\n",
       "      <td>0</td>\n",
       "      <td>1</td>\n",
       "      <td>1</td>\n",
       "      <td>0</td>\n",
       "      <td>-1</td>\n",
       "    </tr>\n",
       "    <tr>\n",
       "      <th>abduction</th>\n",
       "      <td>0</td>\n",
       "      <td>0</td>\n",
       "      <td>0</td>\n",
       "      <td>1</td>\n",
       "      <td>0</td>\n",
       "      <td>1</td>\n",
       "      <td>0</td>\n",
       "      <td>1</td>\n",
       "      <td>1</td>\n",
       "      <td>0</td>\n",
       "      <td>-1</td>\n",
       "    </tr>\n",
       "    <tr>\n",
       "      <th>aberration</th>\n",
       "      <td>0</td>\n",
       "      <td>0</td>\n",
       "      <td>1</td>\n",
       "      <td>0</td>\n",
       "      <td>0</td>\n",
       "      <td>1</td>\n",
       "      <td>0</td>\n",
       "      <td>0</td>\n",
       "      <td>0</td>\n",
       "      <td>0</td>\n",
       "      <td>-1</td>\n",
       "    </tr>\n",
       "    <tr>\n",
       "      <th>...</th>\n",
       "      <td>...</td>\n",
       "      <td>...</td>\n",
       "      <td>...</td>\n",
       "      <td>...</td>\n",
       "      <td>...</td>\n",
       "      <td>...</td>\n",
       "      <td>...</td>\n",
       "      <td>...</td>\n",
       "      <td>...</td>\n",
       "      <td>...</td>\n",
       "      <td>...</td>\n",
       "    </tr>\n",
       "    <tr>\n",
       "      <th>young</th>\n",
       "      <td>0</td>\n",
       "      <td>1</td>\n",
       "      <td>0</td>\n",
       "      <td>0</td>\n",
       "      <td>1</td>\n",
       "      <td>0</td>\n",
       "      <td>1</td>\n",
       "      <td>0</td>\n",
       "      <td>1</td>\n",
       "      <td>0</td>\n",
       "      <td>1</td>\n",
       "    </tr>\n",
       "    <tr>\n",
       "      <th>youth</th>\n",
       "      <td>1</td>\n",
       "      <td>1</td>\n",
       "      <td>0</td>\n",
       "      <td>1</td>\n",
       "      <td>1</td>\n",
       "      <td>0</td>\n",
       "      <td>1</td>\n",
       "      <td>0</td>\n",
       "      <td>1</td>\n",
       "      <td>0</td>\n",
       "      <td>1</td>\n",
       "    </tr>\n",
       "    <tr>\n",
       "      <th>zeal</th>\n",
       "      <td>0</td>\n",
       "      <td>1</td>\n",
       "      <td>0</td>\n",
       "      <td>0</td>\n",
       "      <td>1</td>\n",
       "      <td>0</td>\n",
       "      <td>1</td>\n",
       "      <td>0</td>\n",
       "      <td>1</td>\n",
       "      <td>1</td>\n",
       "      <td>1</td>\n",
       "    </tr>\n",
       "    <tr>\n",
       "      <th>zealous</th>\n",
       "      <td>0</td>\n",
       "      <td>0</td>\n",
       "      <td>0</td>\n",
       "      <td>0</td>\n",
       "      <td>1</td>\n",
       "      <td>0</td>\n",
       "      <td>1</td>\n",
       "      <td>0</td>\n",
       "      <td>0</td>\n",
       "      <td>1</td>\n",
       "      <td>1</td>\n",
       "    </tr>\n",
       "    <tr>\n",
       "      <th>zest</th>\n",
       "      <td>0</td>\n",
       "      <td>1</td>\n",
       "      <td>0</td>\n",
       "      <td>0</td>\n",
       "      <td>1</td>\n",
       "      <td>0</td>\n",
       "      <td>1</td>\n",
       "      <td>0</td>\n",
       "      <td>0</td>\n",
       "      <td>1</td>\n",
       "      <td>1</td>\n",
       "    </tr>\n",
       "  </tbody>\n",
       "</table>\n",
       "<p>3688 rows × 11 columns</p>\n",
       "</div>"
      ],
      "text/plain": [
       "             anger  anticipation  disgust  fear  joy  negative  positive  \\\n",
       "term_str                                                                   \n",
       "abandon          0             0        0     1    0         1         0   \n",
       "abandoned        1             0        0     1    0         1         0   \n",
       "abandonment      1             0        0     1    0         1         0   \n",
       "abduction        0             0        0     1    0         1         0   \n",
       "aberration       0             0        1     0    0         1         0   \n",
       "...            ...           ...      ...   ...  ...       ...       ...   \n",
       "young            0             1        0     0    1         0         1   \n",
       "youth            1             1        0     1    1         0         1   \n",
       "zeal             0             1        0     0    1         0         1   \n",
       "zealous          0             0        0     0    1         0         1   \n",
       "zest             0             1        0     0    1         0         1   \n",
       "\n",
       "             sadness  surprise  trust  sentiment  \n",
       "term_str                                          \n",
       "abandon            1         0      0         -1  \n",
       "abandoned          1         0      0         -1  \n",
       "abandonment        1         1      0         -1  \n",
       "abduction          1         1      0         -1  \n",
       "aberration         0         0      0         -1  \n",
       "...              ...       ...    ...        ...  \n",
       "young              0         1      0          1  \n",
       "youth              0         1      0          1  \n",
       "zeal               0         1      1          1  \n",
       "zealous            0         0      1          1  \n",
       "zest               0         0      1          1  \n",
       "\n",
       "[3688 rows x 11 columns]"
      ]
     },
     "execution_count": 239,
     "metadata": {},
     "output_type": "execute_result"
    }
   ],
   "source": [
    "salex"
   ]
  },
  {
   "cell_type": "code",
   "execution_count": 240,
   "id": "b406053e-cabe-4af9-a47e-27afa315c725",
   "metadata": {},
   "outputs": [
    {
     "data": {
      "text/plain": [
       "['anger',\n",
       " 'anticipation',\n",
       " 'disgust',\n",
       " 'fear',\n",
       " 'joy',\n",
       " 'sadness',\n",
       " 'surprise',\n",
       " 'trust',\n",
       " 'sentiment']"
      ]
     },
     "execution_count": 240,
     "metadata": {},
     "output_type": "execute_result"
    }
   ],
   "source": [
    "emo_cols = \"anger anticipation disgust fear joy sadness surprise trust sentiment\".split()\n",
    "emo_cols "
   ]
  },
  {
   "cell_type": "markdown",
   "id": "3a8e8c27-300a-4271-8305-c5629ed5dbc2",
   "metadata": {},
   "source": [
    "## Merge vocab with lexicon "
   ]
  },
  {
   "cell_type": "code",
   "execution_count": 241,
   "id": "1e56c477-195a-4d22-96e6-81ded06c832e",
   "metadata": {},
   "outputs": [
    {
     "data": {
      "text/html": [
       "<div>\n",
       "<style scoped>\n",
       "    .dataframe tbody tr th:only-of-type {\n",
       "        vertical-align: middle;\n",
       "    }\n",
       "\n",
       "    .dataframe tbody tr th {\n",
       "        vertical-align: top;\n",
       "    }\n",
       "\n",
       "    .dataframe thead th {\n",
       "        text-align: right;\n",
       "    }\n",
       "</style>\n",
       "<table border=\"1\" class=\"dataframe\">\n",
       "  <thead>\n",
       "    <tr style=\"text-align: right;\">\n",
       "      <th></th>\n",
       "      <th>n</th>\n",
       "      <th>p</th>\n",
       "      <th>i</th>\n",
       "      <th>n_chars</th>\n",
       "      <th>max_pos_group</th>\n",
       "      <th>max_pos</th>\n",
       "      <th>n_pos_group</th>\n",
       "      <th>cat_pos_group</th>\n",
       "      <th>n_pos</th>\n",
       "      <th>cat_pos</th>\n",
       "      <th>stop</th>\n",
       "      <th>porter_stem</th>\n",
       "      <th>dfidf</th>\n",
       "      <th>mean_tfidf</th>\n",
       "    </tr>\n",
       "    <tr>\n",
       "      <th>term_str</th>\n",
       "      <th></th>\n",
       "      <th></th>\n",
       "      <th></th>\n",
       "      <th></th>\n",
       "      <th></th>\n",
       "      <th></th>\n",
       "      <th></th>\n",
       "      <th></th>\n",
       "      <th></th>\n",
       "      <th></th>\n",
       "      <th></th>\n",
       "      <th></th>\n",
       "      <th></th>\n",
       "      <th></th>\n",
       "    </tr>\n",
       "  </thead>\n",
       "  <tbody>\n",
       "    <tr>\n",
       "      <th>do</th>\n",
       "      <td>6267</td>\n",
       "      <td>0.010633</td>\n",
       "      <td>6.555375</td>\n",
       "      <td>2</td>\n",
       "      <td>VB</td>\n",
       "      <td>VB</td>\n",
       "      <td>4</td>\n",
       "      <td>{'JJ', 'NN', 'IN', 'VB'}</td>\n",
       "      <td>6</td>\n",
       "      <td>{'IN', 'NN', 'NNP', 'VB', 'JJ', 'VBP'}</td>\n",
       "      <td>1</td>\n",
       "      <td>do</td>\n",
       "      <td>182.183561</td>\n",
       "      <td>0.034685</td>\n",
       "    </tr>\n",
       "    <tr>\n",
       "      <th>re</th>\n",
       "      <td>5741</td>\n",
       "      <td>0.009740</td>\n",
       "      <td>6.681848</td>\n",
       "      <td>2</td>\n",
       "      <td>VB</td>\n",
       "      <td>VBP</td>\n",
       "      <td>1</td>\n",
       "      <td>{'VB'}</td>\n",
       "      <td>2</td>\n",
       "      <td>{'VBP', 'VB'}</td>\n",
       "      <td>1</td>\n",
       "      <td>re</td>\n",
       "      <td>213.010965</td>\n",
       "      <td>0.039817</td>\n",
       "    </tr>\n",
       "    <tr>\n",
       "      <th>going</th>\n",
       "      <td>5638</td>\n",
       "      <td>0.009565</td>\n",
       "      <td>6.707966</td>\n",
       "      <td>5</td>\n",
       "      <td>VB</td>\n",
       "      <td>VBG</td>\n",
       "      <td>1</td>\n",
       "      <td>{'VB'}</td>\n",
       "      <td>1</td>\n",
       "      <td>{'VBG'}</td>\n",
       "      <td>0</td>\n",
       "      <td>go</td>\n",
       "      <td>235.793379</td>\n",
       "      <td>0.045240</td>\n",
       "    </tr>\n",
       "    <tr>\n",
       "      <th>know</th>\n",
       "      <td>5531</td>\n",
       "      <td>0.009384</td>\n",
       "      <td>6.735609</td>\n",
       "      <td>4</td>\n",
       "      <td>VB</td>\n",
       "      <td>VBP</td>\n",
       "      <td>5</td>\n",
       "      <td>{'IN', 'NN', 'FW', 'VB', 'JJ'}</td>\n",
       "      <td>10</td>\n",
       "      <td>{'IN', 'NN', 'VBN', 'NNP', 'FW', 'VB', 'VBD', ...</td>\n",
       "      <td>0</td>\n",
       "      <td>know</td>\n",
       "      <td>228.660069</td>\n",
       "      <td>0.045054</td>\n",
       "    </tr>\n",
       "    <tr>\n",
       "      <th>have</th>\n",
       "      <td>5165</td>\n",
       "      <td>0.008763</td>\n",
       "      <td>6.834381</td>\n",
       "      <td>4</td>\n",
       "      <td>VB</td>\n",
       "      <td>VBP</td>\n",
       "      <td>2</td>\n",
       "      <td>{'NN', 'VB'}</td>\n",
       "      <td>4</td>\n",
       "      <td>{'VBP', 'NN', 'NNP', 'VB'}</td>\n",
       "      <td>1</td>\n",
       "      <td>have</td>\n",
       "      <td>185.933142</td>\n",
       "      <td>0.032536</td>\n",
       "    </tr>\n",
       "    <tr>\n",
       "      <th>...</th>\n",
       "      <td>...</td>\n",
       "      <td>...</td>\n",
       "      <td>...</td>\n",
       "      <td>...</td>\n",
       "      <td>...</td>\n",
       "      <td>...</td>\n",
       "      <td>...</td>\n",
       "      <td>...</td>\n",
       "      <td>...</td>\n",
       "      <td>...</td>\n",
       "      <td>...</td>\n",
       "      <td>...</td>\n",
       "      <td>...</td>\n",
       "      <td>...</td>\n",
       "    </tr>\n",
       "    <tr>\n",
       "      <th>modeled</th>\n",
       "      <td>9</td>\n",
       "      <td>0.000015</td>\n",
       "      <td>15.999009</td>\n",
       "      <td>7</td>\n",
       "      <td>VB</td>\n",
       "      <td>VBD</td>\n",
       "      <td>1</td>\n",
       "      <td>{'VB'}</td>\n",
       "      <td>2</td>\n",
       "      <td>{'VBN', 'VBD'}</td>\n",
       "      <td>0</td>\n",
       "      <td>model</td>\n",
       "      <td>62.293593</td>\n",
       "      <td>0.002738</td>\n",
       "    </tr>\n",
       "    <tr>\n",
       "      <th>others</th>\n",
       "      <td>9</td>\n",
       "      <td>0.000015</td>\n",
       "      <td>15.999009</td>\n",
       "      <td>6</td>\n",
       "      <td>NN</td>\n",
       "      <td>NNS</td>\n",
       "      <td>1</td>\n",
       "      <td>{'NN'}</td>\n",
       "      <td>1</td>\n",
       "      <td>{'NNS'}</td>\n",
       "      <td>0</td>\n",
       "      <td>other</td>\n",
       "      <td>62.293593</td>\n",
       "      <td>0.001915</td>\n",
       "    </tr>\n",
       "    <tr>\n",
       "      <th>activity</th>\n",
       "      <td>8</td>\n",
       "      <td>0.000014</td>\n",
       "      <td>16.168934</td>\n",
       "      <td>8</td>\n",
       "      <td>NN</td>\n",
       "      <td>NN</td>\n",
       "      <td>1</td>\n",
       "      <td>{'NN'}</td>\n",
       "      <td>1</td>\n",
       "      <td>{'NN'}</td>\n",
       "      <td>0</td>\n",
       "      <td>activ</td>\n",
       "      <td>56.731483</td>\n",
       "      <td>0.001677</td>\n",
       "    </tr>\n",
       "    <tr>\n",
       "      <th>task</th>\n",
       "      <td>8</td>\n",
       "      <td>0.000014</td>\n",
       "      <td>16.168934</td>\n",
       "      <td>4</td>\n",
       "      <td>NN</td>\n",
       "      <td>NN</td>\n",
       "      <td>1</td>\n",
       "      <td>{'NN'}</td>\n",
       "      <td>1</td>\n",
       "      <td>{'NN'}</td>\n",
       "      <td>0</td>\n",
       "      <td>task</td>\n",
       "      <td>56.731483</td>\n",
       "      <td>0.001433</td>\n",
       "    </tr>\n",
       "    <tr>\n",
       "      <th>demonstrate</th>\n",
       "      <td>8</td>\n",
       "      <td>0.000014</td>\n",
       "      <td>16.168934</td>\n",
       "      <td>11</td>\n",
       "      <td>VB</td>\n",
       "      <td>VB</td>\n",
       "      <td>1</td>\n",
       "      <td>{'VB'}</td>\n",
       "      <td>2</td>\n",
       "      <td>{'VBP', 'VB'}</td>\n",
       "      <td>0</td>\n",
       "      <td>demonstr</td>\n",
       "      <td>56.731483</td>\n",
       "      <td>0.002540</td>\n",
       "    </tr>\n",
       "  </tbody>\n",
       "</table>\n",
       "<p>1000 rows × 14 columns</p>\n",
       "</div>"
      ],
      "text/plain": [
       "                n         p          i  n_chars max_pos_group max_pos  \\\n",
       "term_str                                                                \n",
       "do           6267  0.010633   6.555375        2            VB      VB   \n",
       "re           5741  0.009740   6.681848        2            VB     VBP   \n",
       "going        5638  0.009565   6.707966        5            VB     VBG   \n",
       "know         5531  0.009384   6.735609        4            VB     VBP   \n",
       "have         5165  0.008763   6.834381        4            VB     VBP   \n",
       "...           ...       ...        ...      ...           ...     ...   \n",
       "modeled         9  0.000015  15.999009        7            VB     VBD   \n",
       "others          9  0.000015  15.999009        6            NN     NNS   \n",
       "activity        8  0.000014  16.168934        8            NN      NN   \n",
       "task            8  0.000014  16.168934        4            NN      NN   \n",
       "demonstrate     8  0.000014  16.168934       11            VB      VB   \n",
       "\n",
       "             n_pos_group                   cat_pos_group  n_pos  \\\n",
       "term_str                                                          \n",
       "do                     4        {'JJ', 'NN', 'IN', 'VB'}      6   \n",
       "re                     1                          {'VB'}      2   \n",
       "going                  1                          {'VB'}      1   \n",
       "know                   5  {'IN', 'NN', 'FW', 'VB', 'JJ'}     10   \n",
       "have                   2                    {'NN', 'VB'}      4   \n",
       "...                  ...                             ...    ...   \n",
       "modeled                1                          {'VB'}      2   \n",
       "others                 1                          {'NN'}      1   \n",
       "activity               1                          {'NN'}      1   \n",
       "task                   1                          {'NN'}      1   \n",
       "demonstrate            1                          {'VB'}      2   \n",
       "\n",
       "                                                       cat_pos  stop  \\\n",
       "term_str                                                               \n",
       "do                      {'IN', 'NN', 'NNP', 'VB', 'JJ', 'VBP'}     1   \n",
       "re                                               {'VBP', 'VB'}     1   \n",
       "going                                                  {'VBG'}     0   \n",
       "know         {'IN', 'NN', 'VBN', 'NNP', 'FW', 'VB', 'VBD', ...     0   \n",
       "have                                {'VBP', 'NN', 'NNP', 'VB'}     1   \n",
       "...                                                        ...   ...   \n",
       "modeled                                         {'VBN', 'VBD'}     0   \n",
       "others                                                 {'NNS'}     0   \n",
       "activity                                                {'NN'}     0   \n",
       "task                                                    {'NN'}     0   \n",
       "demonstrate                                      {'VBP', 'VB'}     0   \n",
       "\n",
       "            porter_stem       dfidf  mean_tfidf  \n",
       "term_str                                         \n",
       "do                   do  182.183561    0.034685  \n",
       "re                   re  213.010965    0.039817  \n",
       "going                go  235.793379    0.045240  \n",
       "know               know  228.660069    0.045054  \n",
       "have               have  185.933142    0.032536  \n",
       "...                 ...         ...         ...  \n",
       "modeled           model   62.293593    0.002738  \n",
       "others            other   62.293593    0.001915  \n",
       "activity          activ   56.731483    0.001677  \n",
       "task               task   56.731483    0.001433  \n",
       "demonstrate    demonstr   56.731483    0.002540  \n",
       "\n",
       "[1000 rows x 14 columns]"
      ]
     },
     "execution_count": 241,
     "metadata": {},
     "output_type": "execute_result"
    }
   ],
   "source": [
    "vocab"
   ]
  },
  {
   "cell_type": "code",
   "execution_count": 242,
   "id": "ec3066bf-7281-49ea-8473-10c0556f0401",
   "metadata": {},
   "outputs": [],
   "source": [
    "V = pd.concat([vocab.reset_index().set_index('term_str'), salex], join='inner', axis=1)"
   ]
  },
  {
   "cell_type": "code",
   "execution_count": 243,
   "id": "8699ba5d-ed01-4632-91f4-d56a9f770c4d",
   "metadata": {},
   "outputs": [
    {
     "data": {
      "text/html": [
       "<div>\n",
       "<style scoped>\n",
       "    .dataframe tbody tr th:only-of-type {\n",
       "        vertical-align: middle;\n",
       "    }\n",
       "\n",
       "    .dataframe tbody tr th {\n",
       "        vertical-align: top;\n",
       "    }\n",
       "\n",
       "    .dataframe thead th {\n",
       "        text-align: right;\n",
       "    }\n",
       "</style>\n",
       "<table border=\"1\" class=\"dataframe\">\n",
       "  <thead>\n",
       "    <tr style=\"text-align: right;\">\n",
       "      <th></th>\n",
       "      <th>n</th>\n",
       "      <th>p</th>\n",
       "      <th>i</th>\n",
       "      <th>n_chars</th>\n",
       "      <th>max_pos_group</th>\n",
       "      <th>max_pos</th>\n",
       "      <th>n_pos_group</th>\n",
       "      <th>cat_pos_group</th>\n",
       "      <th>n_pos</th>\n",
       "      <th>cat_pos</th>\n",
       "      <th>...</th>\n",
       "      <th>anticipation</th>\n",
       "      <th>disgust</th>\n",
       "      <th>fear</th>\n",
       "      <th>joy</th>\n",
       "      <th>negative</th>\n",
       "      <th>positive</th>\n",
       "      <th>sadness</th>\n",
       "      <th>surprise</th>\n",
       "      <th>trust</th>\n",
       "      <th>sentiment</th>\n",
       "    </tr>\n",
       "    <tr>\n",
       "      <th>term_str</th>\n",
       "      <th></th>\n",
       "      <th></th>\n",
       "      <th></th>\n",
       "      <th></th>\n",
       "      <th></th>\n",
       "      <th></th>\n",
       "      <th></th>\n",
       "      <th></th>\n",
       "      <th></th>\n",
       "      <th></th>\n",
       "      <th></th>\n",
       "      <th></th>\n",
       "      <th></th>\n",
       "      <th></th>\n",
       "      <th></th>\n",
       "      <th></th>\n",
       "      <th></th>\n",
       "      <th></th>\n",
       "      <th></th>\n",
       "      <th></th>\n",
       "      <th></th>\n",
       "    </tr>\n",
       "  </thead>\n",
       "  <tbody>\n",
       "    <tr>\n",
       "      <th>problem</th>\n",
       "      <td>4678</td>\n",
       "      <td>0.007937</td>\n",
       "      <td>6.977258</td>\n",
       "      <td>7</td>\n",
       "      <td>NN</td>\n",
       "      <td>NN</td>\n",
       "      <td>1</td>\n",
       "      <td>{'NN'}</td>\n",
       "      <td>2</td>\n",
       "      <td>{'NNP', 'NN'}</td>\n",
       "      <td>...</td>\n",
       "      <td>0</td>\n",
       "      <td>0</td>\n",
       "      <td>1</td>\n",
       "      <td>0</td>\n",
       "      <td>1</td>\n",
       "      <td>0</td>\n",
       "      <td>1</td>\n",
       "      <td>0</td>\n",
       "      <td>0</td>\n",
       "      <td>-1</td>\n",
       "    </tr>\n",
       "    <tr>\n",
       "      <th>word</th>\n",
       "      <td>1523</td>\n",
       "      <td>0.002584</td>\n",
       "      <td>8.596234</td>\n",
       "      <td>4</td>\n",
       "      <td>NN</td>\n",
       "      <td>NN</td>\n",
       "      <td>1</td>\n",
       "      <td>{'NN'}</td>\n",
       "      <td>2</td>\n",
       "      <td>{'NNP', 'NN'}</td>\n",
       "      <td>...</td>\n",
       "      <td>0</td>\n",
       "      <td>0</td>\n",
       "      <td>0</td>\n",
       "      <td>0</td>\n",
       "      <td>0</td>\n",
       "      <td>1</td>\n",
       "      <td>0</td>\n",
       "      <td>0</td>\n",
       "      <td>1</td>\n",
       "      <td>1</td>\n",
       "    </tr>\n",
       "    <tr>\n",
       "      <th>white</th>\n",
       "      <td>1426</td>\n",
       "      <td>0.002419</td>\n",
       "      <td>8.691176</td>\n",
       "      <td>5</td>\n",
       "      <td>JJ</td>\n",
       "      <td>JJ</td>\n",
       "      <td>2</td>\n",
       "      <td>{'JJ', 'NN'}</td>\n",
       "      <td>2</td>\n",
       "      <td>{'JJ', 'NNP'}</td>\n",
       "      <td>...</td>\n",
       "      <td>1</td>\n",
       "      <td>0</td>\n",
       "      <td>0</td>\n",
       "      <td>1</td>\n",
       "      <td>0</td>\n",
       "      <td>1</td>\n",
       "      <td>0</td>\n",
       "      <td>0</td>\n",
       "      <td>1</td>\n",
       "      <td>1</td>\n",
       "    </tr>\n",
       "    <tr>\n",
       "      <th>good</th>\n",
       "      <td>549</td>\n",
       "      <td>0.000931</td>\n",
       "      <td>10.068272</td>\n",
       "      <td>4</td>\n",
       "      <td>JJ</td>\n",
       "      <td>JJ</td>\n",
       "      <td>3</td>\n",
       "      <td>{'JJ', 'VB', 'NN'}</td>\n",
       "      <td>4</td>\n",
       "      <td>{'JJ', 'NNP', 'NN', 'VBD'}</td>\n",
       "      <td>...</td>\n",
       "      <td>1</td>\n",
       "      <td>0</td>\n",
       "      <td>0</td>\n",
       "      <td>1</td>\n",
       "      <td>0</td>\n",
       "      <td>1</td>\n",
       "      <td>0</td>\n",
       "      <td>1</td>\n",
       "      <td>1</td>\n",
       "      <td>1</td>\n",
       "    </tr>\n",
       "    <tr>\n",
       "      <th>kind</th>\n",
       "      <td>525</td>\n",
       "      <td>0.000891</td>\n",
       "      <td>10.132760</td>\n",
       "      <td>4</td>\n",
       "      <td>NN</td>\n",
       "      <td>NN</td>\n",
       "      <td>1</td>\n",
       "      <td>{'NN'}</td>\n",
       "      <td>2</td>\n",
       "      <td>{'NNP', 'NN'}</td>\n",
       "      <td>...</td>\n",
       "      <td>0</td>\n",
       "      <td>0</td>\n",
       "      <td>0</td>\n",
       "      <td>1</td>\n",
       "      <td>0</td>\n",
       "      <td>1</td>\n",
       "      <td>0</td>\n",
       "      <td>0</td>\n",
       "      <td>1</td>\n",
       "      <td>1</td>\n",
       "    </tr>\n",
       "    <tr>\n",
       "      <th>...</th>\n",
       "      <td>...</td>\n",
       "      <td>...</td>\n",
       "      <td>...</td>\n",
       "      <td>...</td>\n",
       "      <td>...</td>\n",
       "      <td>...</td>\n",
       "      <td>...</td>\n",
       "      <td>...</td>\n",
       "      <td>...</td>\n",
       "      <td>...</td>\n",
       "      <td>...</td>\n",
       "      <td>...</td>\n",
       "      <td>...</td>\n",
       "      <td>...</td>\n",
       "      <td>...</td>\n",
       "      <td>...</td>\n",
       "      <td>...</td>\n",
       "      <td>...</td>\n",
       "      <td>...</td>\n",
       "      <td>...</td>\n",
       "      <td>...</td>\n",
       "    </tr>\n",
       "    <tr>\n",
       "      <th>boy</th>\n",
       "      <td>10</td>\n",
       "      <td>0.000017</td>\n",
       "      <td>15.847006</td>\n",
       "      <td>3</td>\n",
       "      <td>NN</td>\n",
       "      <td>NN</td>\n",
       "      <td>5</td>\n",
       "      <td>{'NN', 'VB', 'JJ', 'UH', 'RB'}</td>\n",
       "      <td>6</td>\n",
       "      <td>{'NN', 'NNP', 'VB', 'JJ', 'UH', 'RB'}</td>\n",
       "      <td>...</td>\n",
       "      <td>0</td>\n",
       "      <td>1</td>\n",
       "      <td>0</td>\n",
       "      <td>0</td>\n",
       "      <td>1</td>\n",
       "      <td>0</td>\n",
       "      <td>0</td>\n",
       "      <td>0</td>\n",
       "      <td>0</td>\n",
       "      <td>-1</td>\n",
       "    </tr>\n",
       "    <tr>\n",
       "      <th>provide</th>\n",
       "      <td>10</td>\n",
       "      <td>0.000017</td>\n",
       "      <td>15.847006</td>\n",
       "      <td>7</td>\n",
       "      <td>VB</td>\n",
       "      <td>VB</td>\n",
       "      <td>1</td>\n",
       "      <td>{'VB'}</td>\n",
       "      <td>2</td>\n",
       "      <td>{'VBP', 'VB'}</td>\n",
       "      <td>...</td>\n",
       "      <td>0</td>\n",
       "      <td>0</td>\n",
       "      <td>0</td>\n",
       "      <td>0</td>\n",
       "      <td>0</td>\n",
       "      <td>1</td>\n",
       "      <td>0</td>\n",
       "      <td>0</td>\n",
       "      <td>1</td>\n",
       "      <td>1</td>\n",
       "    </tr>\n",
       "    <tr>\n",
       "      <th>silly</th>\n",
       "      <td>10</td>\n",
       "      <td>0.000017</td>\n",
       "      <td>15.847006</td>\n",
       "      <td>5</td>\n",
       "      <td>RB</td>\n",
       "      <td>RB</td>\n",
       "      <td>1</td>\n",
       "      <td>{'RB'}</td>\n",
       "      <td>1</td>\n",
       "      <td>{'RB'}</td>\n",
       "      <td>...</td>\n",
       "      <td>0</td>\n",
       "      <td>0</td>\n",
       "      <td>0</td>\n",
       "      <td>1</td>\n",
       "      <td>1</td>\n",
       "      <td>0</td>\n",
       "      <td>0</td>\n",
       "      <td>0</td>\n",
       "      <td>0</td>\n",
       "      <td>-1</td>\n",
       "    </tr>\n",
       "    <tr>\n",
       "      <th>exciting</th>\n",
       "      <td>9</td>\n",
       "      <td>0.000015</td>\n",
       "      <td>15.999009</td>\n",
       "      <td>8</td>\n",
       "      <td>JJ</td>\n",
       "      <td>JJ</td>\n",
       "      <td>2</td>\n",
       "      <td>{'JJ', 'VB'}</td>\n",
       "      <td>2</td>\n",
       "      <td>{'JJ', 'VBG'}</td>\n",
       "      <td>...</td>\n",
       "      <td>1</td>\n",
       "      <td>0</td>\n",
       "      <td>0</td>\n",
       "      <td>1</td>\n",
       "      <td>0</td>\n",
       "      <td>1</td>\n",
       "      <td>0</td>\n",
       "      <td>1</td>\n",
       "      <td>0</td>\n",
       "      <td>1</td>\n",
       "    </tr>\n",
       "    <tr>\n",
       "      <th>objective</th>\n",
       "      <td>9</td>\n",
       "      <td>0.000015</td>\n",
       "      <td>15.999009</td>\n",
       "      <td>9</td>\n",
       "      <td>NN</td>\n",
       "      <td>NN</td>\n",
       "      <td>1</td>\n",
       "      <td>{'NN'}</td>\n",
       "      <td>1</td>\n",
       "      <td>{'NN'}</td>\n",
       "      <td>...</td>\n",
       "      <td>1</td>\n",
       "      <td>0</td>\n",
       "      <td>0</td>\n",
       "      <td>0</td>\n",
       "      <td>0</td>\n",
       "      <td>1</td>\n",
       "      <td>0</td>\n",
       "      <td>0</td>\n",
       "      <td>1</td>\n",
       "      <td>1</td>\n",
       "    </tr>\n",
       "  </tbody>\n",
       "</table>\n",
       "<p>85 rows × 25 columns</p>\n",
       "</div>"
      ],
      "text/plain": [
       "              n         p          i  n_chars max_pos_group max_pos  \\\n",
       "term_str                                                              \n",
       "problem    4678  0.007937   6.977258        7            NN      NN   \n",
       "word       1523  0.002584   8.596234        4            NN      NN   \n",
       "white      1426  0.002419   8.691176        5            JJ      JJ   \n",
       "good        549  0.000931  10.068272        4            JJ      JJ   \n",
       "kind        525  0.000891  10.132760        4            NN      NN   \n",
       "...         ...       ...        ...      ...           ...     ...   \n",
       "boy          10  0.000017  15.847006        3            NN      NN   \n",
       "provide      10  0.000017  15.847006        7            VB      VB   \n",
       "silly        10  0.000017  15.847006        5            RB      RB   \n",
       "exciting      9  0.000015  15.999009        8            JJ      JJ   \n",
       "objective     9  0.000015  15.999009        9            NN      NN   \n",
       "\n",
       "           n_pos_group                   cat_pos_group  n_pos  \\\n",
       "term_str                                                        \n",
       "problem              1                          {'NN'}      2   \n",
       "word                 1                          {'NN'}      2   \n",
       "white                2                    {'JJ', 'NN'}      2   \n",
       "good                 3              {'JJ', 'VB', 'NN'}      4   \n",
       "kind                 1                          {'NN'}      2   \n",
       "...                ...                             ...    ...   \n",
       "boy                  5  {'NN', 'VB', 'JJ', 'UH', 'RB'}      6   \n",
       "provide              1                          {'VB'}      2   \n",
       "silly                1                          {'RB'}      1   \n",
       "exciting             2                    {'JJ', 'VB'}      2   \n",
       "objective            1                          {'NN'}      1   \n",
       "\n",
       "                                         cat_pos  ...  anticipation disgust  \\\n",
       "term_str                                          ...                         \n",
       "problem                            {'NNP', 'NN'}  ...             0       0   \n",
       "word                               {'NNP', 'NN'}  ...             0       0   \n",
       "white                              {'JJ', 'NNP'}  ...             1       0   \n",
       "good                  {'JJ', 'NNP', 'NN', 'VBD'}  ...             1       0   \n",
       "kind                               {'NNP', 'NN'}  ...             0       0   \n",
       "...                                          ...  ...           ...     ...   \n",
       "boy        {'NN', 'NNP', 'VB', 'JJ', 'UH', 'RB'}  ...             0       1   \n",
       "provide                            {'VBP', 'VB'}  ...             0       0   \n",
       "silly                                     {'RB'}  ...             0       0   \n",
       "exciting                           {'JJ', 'VBG'}  ...             1       0   \n",
       "objective                                 {'NN'}  ...             1       0   \n",
       "\n",
       "           fear  joy  negative  positive  sadness  surprise  trust  sentiment  \n",
       "term_str                                                                       \n",
       "problem       1    0         1         0        1         0      0         -1  \n",
       "word          0    0         0         1        0         0      1          1  \n",
       "white         0    1         0         1        0         0      1          1  \n",
       "good          0    1         0         1        0         1      1          1  \n",
       "kind          0    1         0         1        0         0      1          1  \n",
       "...         ...  ...       ...       ...      ...       ...    ...        ...  \n",
       "boy           0    0         1         0        0         0      0         -1  \n",
       "provide       0    0         0         1        0         0      1          1  \n",
       "silly         0    1         1         0        0         0      0         -1  \n",
       "exciting      0    1         0         1        0         1      0          1  \n",
       "objective     0    0         0         1        0         0      1          1  \n",
       "\n",
       "[85 rows x 25 columns]"
      ]
     },
     "execution_count": 243,
     "metadata": {},
     "output_type": "execute_result"
    }
   ],
   "source": [
    "V"
   ]
  },
  {
   "cell_type": "markdown",
   "id": "83ae4001-cd18-420f-abdb-6531a4c018a9",
   "metadata": {},
   "source": [
    "## Merge vocab with BOW"
   ]
  },
  {
   "cell_type": "code",
   "execution_count": 244,
   "id": "f6313bd2-9b16-4df5-83d5-6df8e26dbd60",
   "metadata": {},
   "outputs": [],
   "source": [
    "B = bow.join(V[['max_pos'] + emo_cols], on='term_str', rsuffix='_v').dropna()"
   ]
  },
  {
   "cell_type": "code",
   "execution_count": 245,
   "id": "dc52da00-db7c-4b35-90d7-28f674316e92",
   "metadata": {},
   "outputs": [
    {
     "data": {
      "text/html": [
       "<div>\n",
       "<style scoped>\n",
       "    .dataframe tbody tr th:only-of-type {\n",
       "        vertical-align: middle;\n",
       "    }\n",
       "\n",
       "    .dataframe tbody tr th {\n",
       "        vertical-align: top;\n",
       "    }\n",
       "\n",
       "    .dataframe thead th {\n",
       "        text-align: right;\n",
       "    }\n",
       "</style>\n",
       "<table border=\"1\" class=\"dataframe\">\n",
       "  <thead>\n",
       "    <tr style=\"text-align: right;\">\n",
       "      <th></th>\n",
       "      <th></th>\n",
       "      <th></th>\n",
       "      <th>term_str</th>\n",
       "      <th>n</th>\n",
       "      <th>tfidf</th>\n",
       "      <th>max_pos</th>\n",
       "      <th>anger</th>\n",
       "      <th>anticipation</th>\n",
       "      <th>disgust</th>\n",
       "      <th>fear</th>\n",
       "      <th>joy</th>\n",
       "      <th>sadness</th>\n",
       "      <th>surprise</th>\n",
       "      <th>trust</th>\n",
       "      <th>sentiment</th>\n",
       "    </tr>\n",
       "    <tr>\n",
       "      <th>personid</th>\n",
       "      <th>session</th>\n",
       "      <th>task</th>\n",
       "      <th></th>\n",
       "      <th></th>\n",
       "      <th></th>\n",
       "      <th></th>\n",
       "      <th></th>\n",
       "      <th></th>\n",
       "      <th></th>\n",
       "      <th></th>\n",
       "      <th></th>\n",
       "      <th></th>\n",
       "      <th></th>\n",
       "      <th></th>\n",
       "      <th></th>\n",
       "    </tr>\n",
       "  </thead>\n",
       "  <tbody>\n",
       "    <tr>\n",
       "      <th rowspan=\"5\" valign=\"top\">JMU_F22_002</th>\n",
       "      <th rowspan=\"5\" valign=\"top\">0.0</th>\n",
       "      <th>P1</th>\n",
       "      <td>count</td>\n",
       "      <td>2</td>\n",
       "      <td>0.046728</td>\n",
       "      <td>VB</td>\n",
       "      <td>0.0</td>\n",
       "      <td>0.0</td>\n",
       "      <td>0.0</td>\n",
       "      <td>0.0</td>\n",
       "      <td>0.0</td>\n",
       "      <td>0.0</td>\n",
       "      <td>0.0</td>\n",
       "      <td>1.0</td>\n",
       "      <td>1.0</td>\n",
       "    </tr>\n",
       "    <tr>\n",
       "      <th>P1</th>\n",
       "      <td>pretty</td>\n",
       "      <td>4</td>\n",
       "      <td>0.153870</td>\n",
       "      <td>RB</td>\n",
       "      <td>0.0</td>\n",
       "      <td>1.0</td>\n",
       "      <td>0.0</td>\n",
       "      <td>0.0</td>\n",
       "      <td>1.0</td>\n",
       "      <td>0.0</td>\n",
       "      <td>0.0</td>\n",
       "      <td>1.0</td>\n",
       "      <td>1.0</td>\n",
       "    </tr>\n",
       "    <tr>\n",
       "      <th>P1</th>\n",
       "      <td>problem</td>\n",
       "      <td>8</td>\n",
       "      <td>0.015738</td>\n",
       "      <td>NN</td>\n",
       "      <td>0.0</td>\n",
       "      <td>0.0</td>\n",
       "      <td>0.0</td>\n",
       "      <td>1.0</td>\n",
       "      <td>0.0</td>\n",
       "      <td>1.0</td>\n",
       "      <td>0.0</td>\n",
       "      <td>0.0</td>\n",
       "      <td>-1.0</td>\n",
       "    </tr>\n",
       "    <tr>\n",
       "      <th>P1</th>\n",
       "      <td>word</td>\n",
       "      <td>8</td>\n",
       "      <td>0.086906</td>\n",
       "      <td>NN</td>\n",
       "      <td>0.0</td>\n",
       "      <td>0.0</td>\n",
       "      <td>0.0</td>\n",
       "      <td>0.0</td>\n",
       "      <td>0.0</td>\n",
       "      <td>0.0</td>\n",
       "      <td>0.0</td>\n",
       "      <td>1.0</td>\n",
       "      <td>1.0</td>\n",
       "    </tr>\n",
       "    <tr>\n",
       "      <th>P2</th>\n",
       "      <td>bottom</td>\n",
       "      <td>2</td>\n",
       "      <td>0.131884</td>\n",
       "      <td>NN</td>\n",
       "      <td>0.0</td>\n",
       "      <td>0.0</td>\n",
       "      <td>0.0</td>\n",
       "      <td>0.0</td>\n",
       "      <td>0.0</td>\n",
       "      <td>1.0</td>\n",
       "      <td>0.0</td>\n",
       "      <td>0.0</td>\n",
       "      <td>-1.0</td>\n",
       "    </tr>\n",
       "    <tr>\n",
       "      <th>...</th>\n",
       "      <th>...</th>\n",
       "      <th>...</th>\n",
       "      <td>...</td>\n",
       "      <td>...</td>\n",
       "      <td>...</td>\n",
       "      <td>...</td>\n",
       "      <td>...</td>\n",
       "      <td>...</td>\n",
       "      <td>...</td>\n",
       "      <td>...</td>\n",
       "      <td>...</td>\n",
       "      <td>...</td>\n",
       "      <td>...</td>\n",
       "      <td>...</td>\n",
       "      <td>...</td>\n",
       "    </tr>\n",
       "    <tr>\n",
       "      <th rowspan=\"5\" valign=\"top\">UVA_S23_027</th>\n",
       "      <th rowspan=\"5\" valign=\"top\">2.0</th>\n",
       "      <th>Placement</th>\n",
       "      <td>kind</td>\n",
       "      <td>3</td>\n",
       "      <td>0.147791</td>\n",
       "      <td>NN</td>\n",
       "      <td>0.0</td>\n",
       "      <td>0.0</td>\n",
       "      <td>0.0</td>\n",
       "      <td>0.0</td>\n",
       "      <td>1.0</td>\n",
       "      <td>0.0</td>\n",
       "      <td>0.0</td>\n",
       "      <td>1.0</td>\n",
       "      <td>1.0</td>\n",
       "    </tr>\n",
       "    <tr>\n",
       "      <th>Placement</th>\n",
       "      <td>missing</td>\n",
       "      <td>3</td>\n",
       "      <td>0.283011</td>\n",
       "      <td>VBG</td>\n",
       "      <td>0.0</td>\n",
       "      <td>0.0</td>\n",
       "      <td>0.0</td>\n",
       "      <td>1.0</td>\n",
       "      <td>0.0</td>\n",
       "      <td>1.0</td>\n",
       "      <td>0.0</td>\n",
       "      <td>0.0</td>\n",
       "      <td>-1.0</td>\n",
       "    </tr>\n",
       "    <tr>\n",
       "      <th>Placement</th>\n",
       "      <td>problem</td>\n",
       "      <td>1</td>\n",
       "      <td>0.004215</td>\n",
       "      <td>NN</td>\n",
       "      <td>0.0</td>\n",
       "      <td>0.0</td>\n",
       "      <td>0.0</td>\n",
       "      <td>1.0</td>\n",
       "      <td>0.0</td>\n",
       "      <td>1.0</td>\n",
       "      <td>0.0</td>\n",
       "      <td>0.0</td>\n",
       "      <td>-1.0</td>\n",
       "    </tr>\n",
       "    <tr>\n",
       "      <th>Placement</th>\n",
       "      <td>top</td>\n",
       "      <td>1</td>\n",
       "      <td>0.072289</td>\n",
       "      <td>NN</td>\n",
       "      <td>0.0</td>\n",
       "      <td>1.0</td>\n",
       "      <td>0.0</td>\n",
       "      <td>0.0</td>\n",
       "      <td>0.0</td>\n",
       "      <td>0.0</td>\n",
       "      <td>0.0</td>\n",
       "      <td>1.0</td>\n",
       "      <td>1.0</td>\n",
       "    </tr>\n",
       "    <tr>\n",
       "      <th>Placement</th>\n",
       "      <td>word</td>\n",
       "      <td>1</td>\n",
       "      <td>0.023278</td>\n",
       "      <td>NN</td>\n",
       "      <td>0.0</td>\n",
       "      <td>0.0</td>\n",
       "      <td>0.0</td>\n",
       "      <td>0.0</td>\n",
       "      <td>0.0</td>\n",
       "      <td>0.0</td>\n",
       "      <td>0.0</td>\n",
       "      <td>1.0</td>\n",
       "      <td>1.0</td>\n",
       "    </tr>\n",
       "  </tbody>\n",
       "</table>\n",
       "<p>5207 rows × 13 columns</p>\n",
       "</div>"
      ],
      "text/plain": [
       "                              term_str  n     tfidf max_pos  anger  \\\n",
       "personid    session task                                             \n",
       "JMU_F22_002 0.0     P1           count  2  0.046728      VB    0.0   \n",
       "                    P1          pretty  4  0.153870      RB    0.0   \n",
       "                    P1         problem  8  0.015738      NN    0.0   \n",
       "                    P1            word  8  0.086906      NN    0.0   \n",
       "                    P2          bottom  2  0.131884      NN    0.0   \n",
       "...                                ... ..       ...     ...    ...   \n",
       "UVA_S23_027 2.0     Placement     kind  3  0.147791      NN    0.0   \n",
       "                    Placement  missing  3  0.283011     VBG    0.0   \n",
       "                    Placement  problem  1  0.004215      NN    0.0   \n",
       "                    Placement      top  1  0.072289      NN    0.0   \n",
       "                    Placement     word  1  0.023278      NN    0.0   \n",
       "\n",
       "                               anticipation  disgust  fear  joy  sadness  \\\n",
       "personid    session task                                                   \n",
       "JMU_F22_002 0.0     P1                  0.0      0.0   0.0  0.0      0.0   \n",
       "                    P1                  1.0      0.0   0.0  1.0      0.0   \n",
       "                    P1                  0.0      0.0   1.0  0.0      1.0   \n",
       "                    P1                  0.0      0.0   0.0  0.0      0.0   \n",
       "                    P2                  0.0      0.0   0.0  0.0      1.0   \n",
       "...                                     ...      ...   ...  ...      ...   \n",
       "UVA_S23_027 2.0     Placement           0.0      0.0   0.0  1.0      0.0   \n",
       "                    Placement           0.0      0.0   1.0  0.0      1.0   \n",
       "                    Placement           0.0      0.0   1.0  0.0      1.0   \n",
       "                    Placement           1.0      0.0   0.0  0.0      0.0   \n",
       "                    Placement           0.0      0.0   0.0  0.0      0.0   \n",
       "\n",
       "                               surprise  trust  sentiment  \n",
       "personid    session task                                   \n",
       "JMU_F22_002 0.0     P1              0.0    1.0        1.0  \n",
       "                    P1              0.0    1.0        1.0  \n",
       "                    P1              0.0    0.0       -1.0  \n",
       "                    P1              0.0    1.0        1.0  \n",
       "                    P2              0.0    0.0       -1.0  \n",
       "...                                 ...    ...        ...  \n",
       "UVA_S23_027 2.0     Placement       0.0    1.0        1.0  \n",
       "                    Placement       0.0    0.0       -1.0  \n",
       "                    Placement       0.0    0.0       -1.0  \n",
       "                    Placement       0.0    1.0        1.0  \n",
       "                    Placement       0.0    1.0        1.0  \n",
       "\n",
       "[5207 rows x 13 columns]"
      ]
     },
     "execution_count": 245,
     "metadata": {},
     "output_type": "execute_result"
    }
   ],
   "source": [
    "B"
   ]
  },
  {
   "cell_type": "markdown",
   "id": "b09909d8-113b-4681-8077-9e809a268f95",
   "metadata": {},
   "source": [
    "## Weight Emotions by TFIDF"
   ]
  },
  {
   "cell_type": "code",
   "execution_count": 246,
   "id": "69196bc7-bfa3-4c6a-a9f6-a3e112846dfe",
   "metadata": {},
   "outputs": [],
   "source": [
    "for col in emo_cols:\n",
    "    B[col] = B[col] * B.tfidf"
   ]
  },
  {
   "cell_type": "markdown",
   "id": "209413c4-7c5e-43b8-9c8d-5484ea908bb8",
   "metadata": {},
   "source": [
    "## Merge with lib for additonal labels "
   ]
  },
  {
   "cell_type": "code",
   "execution_count": 247,
   "id": "cae3cf70-91c4-45d4-b587-c4ffb5d9c7f6",
   "metadata": {},
   "outputs": [],
   "source": [
    "B = B.join(lib, how='left')"
   ]
  },
  {
   "cell_type": "code",
   "execution_count": 248,
   "id": "60835cf0-8692-4865-9e73-081e08a95a63",
   "metadata": {},
   "outputs": [
    {
     "data": {
      "text/html": [
       "<div>\n",
       "<style scoped>\n",
       "    .dataframe tbody tr th:only-of-type {\n",
       "        vertical-align: middle;\n",
       "    }\n",
       "\n",
       "    .dataframe tbody tr th {\n",
       "        vertical-align: top;\n",
       "    }\n",
       "\n",
       "    .dataframe thead th {\n",
       "        text-align: right;\n",
       "    }\n",
       "</style>\n",
       "<table border=\"1\" class=\"dataframe\">\n",
       "  <thead>\n",
       "    <tr style=\"text-align: right;\">\n",
       "      <th></th>\n",
       "      <th></th>\n",
       "      <th></th>\n",
       "      <th>term_str</th>\n",
       "      <th>n</th>\n",
       "      <th>tfidf</th>\n",
       "      <th>max_pos</th>\n",
       "      <th>anger</th>\n",
       "      <th>anticipation</th>\n",
       "      <th>disgust</th>\n",
       "      <th>fear</th>\n",
       "      <th>joy</th>\n",
       "      <th>sadness</th>\n",
       "      <th>...</th>\n",
       "      <th>ending</th>\n",
       "      <th>accuracy</th>\n",
       "      <th>avg_score</th>\n",
       "      <th>metadata</th>\n",
       "      <th>site</th>\n",
       "      <th>course</th>\n",
       "      <th>treatment_status</th>\n",
       "      <th>treatment_by_session</th>\n",
       "      <th>mean_score_session</th>\n",
       "      <th>score_above_mean</th>\n",
       "    </tr>\n",
       "    <tr>\n",
       "      <th>personid</th>\n",
       "      <th>session</th>\n",
       "      <th>task</th>\n",
       "      <th></th>\n",
       "      <th></th>\n",
       "      <th></th>\n",
       "      <th></th>\n",
       "      <th></th>\n",
       "      <th></th>\n",
       "      <th></th>\n",
       "      <th></th>\n",
       "      <th></th>\n",
       "      <th></th>\n",
       "      <th></th>\n",
       "      <th></th>\n",
       "      <th></th>\n",
       "      <th></th>\n",
       "      <th></th>\n",
       "      <th></th>\n",
       "      <th></th>\n",
       "      <th></th>\n",
       "      <th></th>\n",
       "      <th></th>\n",
       "      <th></th>\n",
       "    </tr>\n",
       "  </thead>\n",
       "  <tbody>\n",
       "    <tr>\n",
       "      <th rowspan=\"5\" valign=\"top\">JMU_F22_002</th>\n",
       "      <th rowspan=\"5\" valign=\"top\">0.0</th>\n",
       "      <th>P1</th>\n",
       "      <td>count</td>\n",
       "      <td>2</td>\n",
       "      <td>0.046728</td>\n",
       "      <td>VB</td>\n",
       "      <td>0.0</td>\n",
       "      <td>0.000000</td>\n",
       "      <td>0.0</td>\n",
       "      <td>0.000000</td>\n",
       "      <td>0.000000</td>\n",
       "      <td>0.000000</td>\n",
       "      <td>...</td>\n",
       "      <td>1.0</td>\n",
       "      <td>2.333333</td>\n",
       "      <td>1.361111</td>\n",
       "      <td>Tue, Oct 18, 2022 3:32PM • 4:46</td>\n",
       "      <td>JMU</td>\n",
       "      <td>F22</td>\n",
       "      <td>Non-Experimental</td>\n",
       "      <td>Non-Experimental_0.0</td>\n",
       "      <td>1.321275</td>\n",
       "      <td>1.0</td>\n",
       "    </tr>\n",
       "    <tr>\n",
       "      <th>P1</th>\n",
       "      <td>pretty</td>\n",
       "      <td>4</td>\n",
       "      <td>0.153870</td>\n",
       "      <td>RB</td>\n",
       "      <td>0.0</td>\n",
       "      <td>0.153870</td>\n",
       "      <td>0.0</td>\n",
       "      <td>0.000000</td>\n",
       "      <td>0.153870</td>\n",
       "      <td>0.000000</td>\n",
       "      <td>...</td>\n",
       "      <td>1.0</td>\n",
       "      <td>2.333333</td>\n",
       "      <td>1.361111</td>\n",
       "      <td>Tue, Oct 18, 2022 3:32PM • 4:46</td>\n",
       "      <td>JMU</td>\n",
       "      <td>F22</td>\n",
       "      <td>Non-Experimental</td>\n",
       "      <td>Non-Experimental_0.0</td>\n",
       "      <td>1.321275</td>\n",
       "      <td>1.0</td>\n",
       "    </tr>\n",
       "    <tr>\n",
       "      <th>P1</th>\n",
       "      <td>problem</td>\n",
       "      <td>8</td>\n",
       "      <td>0.015738</td>\n",
       "      <td>NN</td>\n",
       "      <td>0.0</td>\n",
       "      <td>0.000000</td>\n",
       "      <td>0.0</td>\n",
       "      <td>0.015738</td>\n",
       "      <td>0.000000</td>\n",
       "      <td>0.015738</td>\n",
       "      <td>...</td>\n",
       "      <td>1.0</td>\n",
       "      <td>2.333333</td>\n",
       "      <td>1.361111</td>\n",
       "      <td>Tue, Oct 18, 2022 3:32PM • 4:46</td>\n",
       "      <td>JMU</td>\n",
       "      <td>F22</td>\n",
       "      <td>Non-Experimental</td>\n",
       "      <td>Non-Experimental_0.0</td>\n",
       "      <td>1.321275</td>\n",
       "      <td>1.0</td>\n",
       "    </tr>\n",
       "    <tr>\n",
       "      <th>P1</th>\n",
       "      <td>word</td>\n",
       "      <td>8</td>\n",
       "      <td>0.086906</td>\n",
       "      <td>NN</td>\n",
       "      <td>0.0</td>\n",
       "      <td>0.000000</td>\n",
       "      <td>0.0</td>\n",
       "      <td>0.000000</td>\n",
       "      <td>0.000000</td>\n",
       "      <td>0.000000</td>\n",
       "      <td>...</td>\n",
       "      <td>1.0</td>\n",
       "      <td>2.333333</td>\n",
       "      <td>1.361111</td>\n",
       "      <td>Tue, Oct 18, 2022 3:32PM • 4:46</td>\n",
       "      <td>JMU</td>\n",
       "      <td>F22</td>\n",
       "      <td>Non-Experimental</td>\n",
       "      <td>Non-Experimental_0.0</td>\n",
       "      <td>1.321275</td>\n",
       "      <td>1.0</td>\n",
       "    </tr>\n",
       "    <tr>\n",
       "      <th>P2</th>\n",
       "      <td>bottom</td>\n",
       "      <td>2</td>\n",
       "      <td>0.131884</td>\n",
       "      <td>NN</td>\n",
       "      <td>0.0</td>\n",
       "      <td>0.000000</td>\n",
       "      <td>0.0</td>\n",
       "      <td>0.000000</td>\n",
       "      <td>0.000000</td>\n",
       "      <td>0.131884</td>\n",
       "      <td>...</td>\n",
       "      <td>1.0</td>\n",
       "      <td>2.333333</td>\n",
       "      <td>1.361111</td>\n",
       "      <td>Tue, Oct 18, 2022 3:32PM • 4:46</td>\n",
       "      <td>JMU</td>\n",
       "      <td>F22</td>\n",
       "      <td>Non-Experimental</td>\n",
       "      <td>Non-Experimental_0.0</td>\n",
       "      <td>1.321275</td>\n",
       "      <td>1.0</td>\n",
       "    </tr>\n",
       "    <tr>\n",
       "      <th>...</th>\n",
       "      <th>...</th>\n",
       "      <th>...</th>\n",
       "      <td>...</td>\n",
       "      <td>...</td>\n",
       "      <td>...</td>\n",
       "      <td>...</td>\n",
       "      <td>...</td>\n",
       "      <td>...</td>\n",
       "      <td>...</td>\n",
       "      <td>...</td>\n",
       "      <td>...</td>\n",
       "      <td>...</td>\n",
       "      <td>...</td>\n",
       "      <td>...</td>\n",
       "      <td>...</td>\n",
       "      <td>...</td>\n",
       "      <td>...</td>\n",
       "      <td>...</td>\n",
       "      <td>...</td>\n",
       "      <td>...</td>\n",
       "      <td>...</td>\n",
       "      <td>...</td>\n",
       "      <td>...</td>\n",
       "    </tr>\n",
       "    <tr>\n",
       "      <th rowspan=\"5\" valign=\"top\">UVA_S23_027</th>\n",
       "      <th rowspan=\"5\" valign=\"top\">2.0</th>\n",
       "      <th>Placement</th>\n",
       "      <td>kind</td>\n",
       "      <td>3</td>\n",
       "      <td>0.147791</td>\n",
       "      <td>NN</td>\n",
       "      <td>0.0</td>\n",
       "      <td>0.000000</td>\n",
       "      <td>0.0</td>\n",
       "      <td>0.000000</td>\n",
       "      <td>0.147791</td>\n",
       "      <td>0.000000</td>\n",
       "      <td>...</td>\n",
       "      <td>NaN</td>\n",
       "      <td>NaN</td>\n",
       "      <td>NaN</td>\n",
       "      <td>NaN</td>\n",
       "      <td>NaN</td>\n",
       "      <td>NaN</td>\n",
       "      <td>NaN</td>\n",
       "      <td>NaN</td>\n",
       "      <td>NaN</td>\n",
       "      <td>NaN</td>\n",
       "    </tr>\n",
       "    <tr>\n",
       "      <th>Placement</th>\n",
       "      <td>missing</td>\n",
       "      <td>3</td>\n",
       "      <td>0.283011</td>\n",
       "      <td>VBG</td>\n",
       "      <td>0.0</td>\n",
       "      <td>0.000000</td>\n",
       "      <td>0.0</td>\n",
       "      <td>0.283011</td>\n",
       "      <td>0.000000</td>\n",
       "      <td>0.283011</td>\n",
       "      <td>...</td>\n",
       "      <td>NaN</td>\n",
       "      <td>NaN</td>\n",
       "      <td>NaN</td>\n",
       "      <td>NaN</td>\n",
       "      <td>NaN</td>\n",
       "      <td>NaN</td>\n",
       "      <td>NaN</td>\n",
       "      <td>NaN</td>\n",
       "      <td>NaN</td>\n",
       "      <td>NaN</td>\n",
       "    </tr>\n",
       "    <tr>\n",
       "      <th>Placement</th>\n",
       "      <td>problem</td>\n",
       "      <td>1</td>\n",
       "      <td>0.004215</td>\n",
       "      <td>NN</td>\n",
       "      <td>0.0</td>\n",
       "      <td>0.000000</td>\n",
       "      <td>0.0</td>\n",
       "      <td>0.004215</td>\n",
       "      <td>0.000000</td>\n",
       "      <td>0.004215</td>\n",
       "      <td>...</td>\n",
       "      <td>NaN</td>\n",
       "      <td>NaN</td>\n",
       "      <td>NaN</td>\n",
       "      <td>NaN</td>\n",
       "      <td>NaN</td>\n",
       "      <td>NaN</td>\n",
       "      <td>NaN</td>\n",
       "      <td>NaN</td>\n",
       "      <td>NaN</td>\n",
       "      <td>NaN</td>\n",
       "    </tr>\n",
       "    <tr>\n",
       "      <th>Placement</th>\n",
       "      <td>top</td>\n",
       "      <td>1</td>\n",
       "      <td>0.072289</td>\n",
       "      <td>NN</td>\n",
       "      <td>0.0</td>\n",
       "      <td>0.072289</td>\n",
       "      <td>0.0</td>\n",
       "      <td>0.000000</td>\n",
       "      <td>0.000000</td>\n",
       "      <td>0.000000</td>\n",
       "      <td>...</td>\n",
       "      <td>NaN</td>\n",
       "      <td>NaN</td>\n",
       "      <td>NaN</td>\n",
       "      <td>NaN</td>\n",
       "      <td>NaN</td>\n",
       "      <td>NaN</td>\n",
       "      <td>NaN</td>\n",
       "      <td>NaN</td>\n",
       "      <td>NaN</td>\n",
       "      <td>NaN</td>\n",
       "    </tr>\n",
       "    <tr>\n",
       "      <th>Placement</th>\n",
       "      <td>word</td>\n",
       "      <td>1</td>\n",
       "      <td>0.023278</td>\n",
       "      <td>NN</td>\n",
       "      <td>0.0</td>\n",
       "      <td>0.000000</td>\n",
       "      <td>0.0</td>\n",
       "      <td>0.000000</td>\n",
       "      <td>0.000000</td>\n",
       "      <td>0.000000</td>\n",
       "      <td>...</td>\n",
       "      <td>NaN</td>\n",
       "      <td>NaN</td>\n",
       "      <td>NaN</td>\n",
       "      <td>NaN</td>\n",
       "      <td>NaN</td>\n",
       "      <td>NaN</td>\n",
       "      <td>NaN</td>\n",
       "      <td>NaN</td>\n",
       "      <td>NaN</td>\n",
       "      <td>NaN</td>\n",
       "    </tr>\n",
       "  </tbody>\n",
       "</table>\n",
       "<p>5207 rows × 27 columns</p>\n",
       "</div>"
      ],
      "text/plain": [
       "                              term_str  n     tfidf max_pos  anger  \\\n",
       "personid    session task                                             \n",
       "JMU_F22_002 0.0     P1           count  2  0.046728      VB    0.0   \n",
       "                    P1          pretty  4  0.153870      RB    0.0   \n",
       "                    P1         problem  8  0.015738      NN    0.0   \n",
       "                    P1            word  8  0.086906      NN    0.0   \n",
       "                    P2          bottom  2  0.131884      NN    0.0   \n",
       "...                                ... ..       ...     ...    ...   \n",
       "UVA_S23_027 2.0     Placement     kind  3  0.147791      NN    0.0   \n",
       "                    Placement  missing  3  0.283011     VBG    0.0   \n",
       "                    Placement  problem  1  0.004215      NN    0.0   \n",
       "                    Placement      top  1  0.072289      NN    0.0   \n",
       "                    Placement     word  1  0.023278      NN    0.0   \n",
       "\n",
       "                               anticipation  disgust      fear       joy  \\\n",
       "personid    session task                                                   \n",
       "JMU_F22_002 0.0     P1             0.000000      0.0  0.000000  0.000000   \n",
       "                    P1             0.153870      0.0  0.000000  0.153870   \n",
       "                    P1             0.000000      0.0  0.015738  0.000000   \n",
       "                    P1             0.000000      0.0  0.000000  0.000000   \n",
       "                    P2             0.000000      0.0  0.000000  0.000000   \n",
       "...                                     ...      ...       ...       ...   \n",
       "UVA_S23_027 2.0     Placement      0.000000      0.0  0.000000  0.147791   \n",
       "                    Placement      0.000000      0.0  0.283011  0.000000   \n",
       "                    Placement      0.000000      0.0  0.004215  0.000000   \n",
       "                    Placement      0.072289      0.0  0.000000  0.000000   \n",
       "                    Placement      0.000000      0.0  0.000000  0.000000   \n",
       "\n",
       "                                sadness  ...  ending  accuracy  avg_score  \\\n",
       "personid    session task                 ...                                \n",
       "JMU_F22_002 0.0     P1         0.000000  ...     1.0  2.333333   1.361111   \n",
       "                    P1         0.000000  ...     1.0  2.333333   1.361111   \n",
       "                    P1         0.015738  ...     1.0  2.333333   1.361111   \n",
       "                    P1         0.000000  ...     1.0  2.333333   1.361111   \n",
       "                    P2         0.131884  ...     1.0  2.333333   1.361111   \n",
       "...                                 ...  ...     ...       ...        ...   \n",
       "UVA_S23_027 2.0     Placement  0.000000  ...     NaN       NaN        NaN   \n",
       "                    Placement  0.283011  ...     NaN       NaN        NaN   \n",
       "                    Placement  0.004215  ...     NaN       NaN        NaN   \n",
       "                    Placement  0.000000  ...     NaN       NaN        NaN   \n",
       "                    Placement  0.000000  ...     NaN       NaN        NaN   \n",
       "\n",
       "                                                      metadata  site  course  \\\n",
       "personid    session task                                                       \n",
       "JMU_F22_002 0.0     P1         Tue, Oct 18, 2022 3:32PM • 4:46   JMU     F22   \n",
       "                    P1         Tue, Oct 18, 2022 3:32PM • 4:46   JMU     F22   \n",
       "                    P1         Tue, Oct 18, 2022 3:32PM • 4:46   JMU     F22   \n",
       "                    P1         Tue, Oct 18, 2022 3:32PM • 4:46   JMU     F22   \n",
       "                    P2         Tue, Oct 18, 2022 3:32PM • 4:46   JMU     F22   \n",
       "...                                                        ...   ...     ...   \n",
       "UVA_S23_027 2.0     Placement                              NaN   NaN     NaN   \n",
       "                    Placement                              NaN   NaN     NaN   \n",
       "                    Placement                              NaN   NaN     NaN   \n",
       "                    Placement                              NaN   NaN     NaN   \n",
       "                    Placement                              NaN   NaN     NaN   \n",
       "\n",
       "                               treatment_status  treatment_by_session  \\\n",
       "personid    session task                                                \n",
       "JMU_F22_002 0.0     P1         Non-Experimental  Non-Experimental_0.0   \n",
       "                    P1         Non-Experimental  Non-Experimental_0.0   \n",
       "                    P1         Non-Experimental  Non-Experimental_0.0   \n",
       "                    P1         Non-Experimental  Non-Experimental_0.0   \n",
       "                    P2         Non-Experimental  Non-Experimental_0.0   \n",
       "...                                         ...                   ...   \n",
       "UVA_S23_027 2.0     Placement               NaN                   NaN   \n",
       "                    Placement               NaN                   NaN   \n",
       "                    Placement               NaN                   NaN   \n",
       "                    Placement               NaN                   NaN   \n",
       "                    Placement               NaN                   NaN   \n",
       "\n",
       "                               mean_score_session  score_above_mean  \n",
       "personid    session task                                             \n",
       "JMU_F22_002 0.0     P1                   1.321275               1.0  \n",
       "                    P1                   1.321275               1.0  \n",
       "                    P1                   1.321275               1.0  \n",
       "                    P1                   1.321275               1.0  \n",
       "                    P2                   1.321275               1.0  \n",
       "...                                           ...               ...  \n",
       "UVA_S23_027 2.0     Placement                 NaN               NaN  \n",
       "                    Placement                 NaN               NaN  \n",
       "                    Placement                 NaN               NaN  \n",
       "                    Placement                 NaN               NaN  \n",
       "                    Placement                 NaN               NaN  \n",
       "\n",
       "[5207 rows x 27 columns]"
      ]
     },
     "execution_count": 248,
     "metadata": {},
     "output_type": "execute_result"
    }
   ],
   "source": [
    "B"
   ]
  },
  {
   "cell_type": "markdown",
   "id": "cce54a32-748a-42fc-a31a-7c04a5fb29b6",
   "metadata": {},
   "source": [
    "## Emotions by Person x sesion "
   ]
  },
  {
   "cell_type": "code",
   "execution_count": 249,
   "id": "a61d5e53-cacc-471d-b402-b468f26e379f",
   "metadata": {},
   "outputs": [
    {
     "data": {
      "text/html": [
       "<div>\n",
       "<style scoped>\n",
       "    .dataframe tbody tr th:only-of-type {\n",
       "        vertical-align: middle;\n",
       "    }\n",
       "\n",
       "    .dataframe tbody tr th {\n",
       "        vertical-align: top;\n",
       "    }\n",
       "\n",
       "    .dataframe thead th {\n",
       "        text-align: right;\n",
       "    }\n",
       "</style>\n",
       "<table border=\"1\" class=\"dataframe\">\n",
       "  <thead>\n",
       "    <tr style=\"text-align: right;\">\n",
       "      <th></th>\n",
       "      <th></th>\n",
       "      <th>anger</th>\n",
       "      <th>anticipation</th>\n",
       "      <th>disgust</th>\n",
       "      <th>fear</th>\n",
       "      <th>joy</th>\n",
       "      <th>sadness</th>\n",
       "      <th>surprise</th>\n",
       "      <th>trust</th>\n",
       "      <th>sentiment</th>\n",
       "    </tr>\n",
       "    <tr>\n",
       "      <th>personid</th>\n",
       "      <th>session</th>\n",
       "      <th></th>\n",
       "      <th></th>\n",
       "      <th></th>\n",
       "      <th></th>\n",
       "      <th></th>\n",
       "      <th></th>\n",
       "      <th></th>\n",
       "      <th></th>\n",
       "      <th></th>\n",
       "    </tr>\n",
       "  </thead>\n",
       "  <tbody>\n",
       "    <tr>\n",
       "      <th rowspan=\"2\" valign=\"top\">JMU_F22_002</th>\n",
       "      <th>0.0</th>\n",
       "      <td>0.000000</td>\n",
       "      <td>0.128814</td>\n",
       "      <td>0.000000</td>\n",
       "      <td>0.002639</td>\n",
       "      <td>0.116496</td>\n",
       "      <td>0.011431</td>\n",
       "      <td>0.000000</td>\n",
       "      <td>0.160296</td>\n",
       "      <td>0.148865</td>\n",
       "    </tr>\n",
       "    <tr>\n",
       "      <th>1.0</th>\n",
       "      <td>0.030843</td>\n",
       "      <td>0.010332</td>\n",
       "      <td>0.000000</td>\n",
       "      <td>0.001740</td>\n",
       "      <td>0.072753</td>\n",
       "      <td>0.001740</td>\n",
       "      <td>0.005339</td>\n",
       "      <td>0.089038</td>\n",
       "      <td>0.071042</td>\n",
       "    </tr>\n",
       "    <tr>\n",
       "      <th rowspan=\"2\" valign=\"top\">JMU_F22_005</th>\n",
       "      <th>0.0</th>\n",
       "      <td>0.011982</td>\n",
       "      <td>0.054772</td>\n",
       "      <td>0.008306</td>\n",
       "      <td>0.020215</td>\n",
       "      <td>0.094969</td>\n",
       "      <td>0.019051</td>\n",
       "      <td>0.013742</td>\n",
       "      <td>0.071364</td>\n",
       "      <td>0.087135</td>\n",
       "    </tr>\n",
       "    <tr>\n",
       "      <th>1.0</th>\n",
       "      <td>0.023037</td>\n",
       "      <td>0.012726</td>\n",
       "      <td>0.000000</td>\n",
       "      <td>0.005567</td>\n",
       "      <td>0.020832</td>\n",
       "      <td>0.005567</td>\n",
       "      <td>0.007473</td>\n",
       "      <td>0.061782</td>\n",
       "      <td>0.033178</td>\n",
       "    </tr>\n",
       "    <tr>\n",
       "      <th>JMU_F22_009</th>\n",
       "      <th>0.0</th>\n",
       "      <td>0.000000</td>\n",
       "      <td>0.059942</td>\n",
       "      <td>0.012983</td>\n",
       "      <td>0.002252</td>\n",
       "      <td>0.055910</td>\n",
       "      <td>0.002252</td>\n",
       "      <td>0.000000</td>\n",
       "      <td>0.098195</td>\n",
       "      <td>0.082961</td>\n",
       "    </tr>\n",
       "    <tr>\n",
       "      <th>...</th>\n",
       "      <th>...</th>\n",
       "      <td>...</td>\n",
       "      <td>...</td>\n",
       "      <td>...</td>\n",
       "      <td>...</td>\n",
       "      <td>...</td>\n",
       "      <td>...</td>\n",
       "      <td>...</td>\n",
       "      <td>...</td>\n",
       "      <td>...</td>\n",
       "    </tr>\n",
       "    <tr>\n",
       "      <th>UVA_S23_025</th>\n",
       "      <th>2.0</th>\n",
       "      <td>0.010494</td>\n",
       "      <td>0.036483</td>\n",
       "      <td>0.003693</td>\n",
       "      <td>0.009326</td>\n",
       "      <td>0.062817</td>\n",
       "      <td>0.005136</td>\n",
       "      <td>0.022871</td>\n",
       "      <td>0.056377</td>\n",
       "      <td>0.056544</td>\n",
       "    </tr>\n",
       "    <tr>\n",
       "      <th>UVA_S23_026</th>\n",
       "      <th>2.0</th>\n",
       "      <td>0.011043</td>\n",
       "      <td>0.035430</td>\n",
       "      <td>0.002636</td>\n",
       "      <td>0.008954</td>\n",
       "      <td>0.022816</td>\n",
       "      <td>0.010584</td>\n",
       "      <td>0.023864</td>\n",
       "      <td>0.031881</td>\n",
       "      <td>0.008422</td>\n",
       "    </tr>\n",
       "    <tr>\n",
       "      <th rowspan=\"3\" valign=\"top\">UVA_S23_027</th>\n",
       "      <th>0.0</th>\n",
       "      <td>0.031970</td>\n",
       "      <td>0.052868</td>\n",
       "      <td>0.000000</td>\n",
       "      <td>0.009276</td>\n",
       "      <td>0.055524</td>\n",
       "      <td>0.017664</td>\n",
       "      <td>0.000000</td>\n",
       "      <td>0.115348</td>\n",
       "      <td>0.065714</td>\n",
       "    </tr>\n",
       "    <tr>\n",
       "      <th>1.0</th>\n",
       "      <td>0.000000</td>\n",
       "      <td>0.013684</td>\n",
       "      <td>0.011004</td>\n",
       "      <td>0.030176</td>\n",
       "      <td>0.106645</td>\n",
       "      <td>0.030176</td>\n",
       "      <td>0.011004</td>\n",
       "      <td>0.104926</td>\n",
       "      <td>0.092885</td>\n",
       "    </tr>\n",
       "    <tr>\n",
       "      <th>2.0</th>\n",
       "      <td>0.023026</td>\n",
       "      <td>0.018852</td>\n",
       "      <td>0.000000</td>\n",
       "      <td>0.064058</td>\n",
       "      <td>0.029638</td>\n",
       "      <td>0.064058</td>\n",
       "      <td>0.008525</td>\n",
       "      <td>0.043291</td>\n",
       "      <td>-0.020767</td>\n",
       "    </tr>\n",
       "  </tbody>\n",
       "</table>\n",
       "<p>467 rows × 9 columns</p>\n",
       "</div>"
      ],
      "text/plain": [
       "                        anger  anticipation   disgust      fear       joy  \\\n",
       "personid    session                                                         \n",
       "JMU_F22_002 0.0      0.000000      0.128814  0.000000  0.002639  0.116496   \n",
       "            1.0      0.030843      0.010332  0.000000  0.001740  0.072753   \n",
       "JMU_F22_005 0.0      0.011982      0.054772  0.008306  0.020215  0.094969   \n",
       "            1.0      0.023037      0.012726  0.000000  0.005567  0.020832   \n",
       "JMU_F22_009 0.0      0.000000      0.059942  0.012983  0.002252  0.055910   \n",
       "...                       ...           ...       ...       ...       ...   \n",
       "UVA_S23_025 2.0      0.010494      0.036483  0.003693  0.009326  0.062817   \n",
       "UVA_S23_026 2.0      0.011043      0.035430  0.002636  0.008954  0.022816   \n",
       "UVA_S23_027 0.0      0.031970      0.052868  0.000000  0.009276  0.055524   \n",
       "            1.0      0.000000      0.013684  0.011004  0.030176  0.106645   \n",
       "            2.0      0.023026      0.018852  0.000000  0.064058  0.029638   \n",
       "\n",
       "                      sadness  surprise     trust  sentiment  \n",
       "personid    session                                           \n",
       "JMU_F22_002 0.0      0.011431  0.000000  0.160296   0.148865  \n",
       "            1.0      0.001740  0.005339  0.089038   0.071042  \n",
       "JMU_F22_005 0.0      0.019051  0.013742  0.071364   0.087135  \n",
       "            1.0      0.005567  0.007473  0.061782   0.033178  \n",
       "JMU_F22_009 0.0      0.002252  0.000000  0.098195   0.082961  \n",
       "...                       ...       ...       ...        ...  \n",
       "UVA_S23_025 2.0      0.005136  0.022871  0.056377   0.056544  \n",
       "UVA_S23_026 2.0      0.010584  0.023864  0.031881   0.008422  \n",
       "UVA_S23_027 0.0      0.017664  0.000000  0.115348   0.065714  \n",
       "            1.0      0.030176  0.011004  0.104926   0.092885  \n",
       "            2.0      0.064058  0.008525  0.043291  -0.020767  \n",
       "\n",
       "[467 rows x 9 columns]"
      ]
     },
     "execution_count": 249,
     "metadata": {},
     "output_type": "execute_result"
    }
   ],
   "source": [
    "EMO_personxsession = B.groupby(['personid','session'])[emo_cols].mean()\n",
    "EMO_personxsession"
   ]
  },
  {
   "cell_type": "markdown",
   "id": "cf2c27d4-583d-4c1f-b257-e155eec10ef8",
   "metadata": {},
   "source": [
    "## By Session "
   ]
  },
  {
   "cell_type": "code",
   "execution_count": 250,
   "id": "ac0d66b0-f044-4232-91cb-c953f824b23f",
   "metadata": {},
   "outputs": [],
   "source": [
    "EMO_session = B.groupby(['session'])[emo_cols].mean()"
   ]
  },
  {
   "cell_type": "code",
   "execution_count": 251,
   "id": "43445412-2f72-4272-9932-c62aa29aae6c",
   "metadata": {},
   "outputs": [
    {
     "data": {
      "text/html": [
       "<div>\n",
       "<style scoped>\n",
       "    .dataframe tbody tr th:only-of-type {\n",
       "        vertical-align: middle;\n",
       "    }\n",
       "\n",
       "    .dataframe tbody tr th {\n",
       "        vertical-align: top;\n",
       "    }\n",
       "\n",
       "    .dataframe thead th {\n",
       "        text-align: right;\n",
       "    }\n",
       "</style>\n",
       "<table border=\"1\" class=\"dataframe\">\n",
       "  <thead>\n",
       "    <tr style=\"text-align: right;\">\n",
       "      <th></th>\n",
       "      <th>anger</th>\n",
       "      <th>anticipation</th>\n",
       "      <th>disgust</th>\n",
       "      <th>fear</th>\n",
       "      <th>joy</th>\n",
       "      <th>sadness</th>\n",
       "      <th>surprise</th>\n",
       "      <th>trust</th>\n",
       "      <th>sentiment</th>\n",
       "    </tr>\n",
       "    <tr>\n",
       "      <th>session</th>\n",
       "      <th></th>\n",
       "      <th></th>\n",
       "      <th></th>\n",
       "      <th></th>\n",
       "      <th></th>\n",
       "      <th></th>\n",
       "      <th></th>\n",
       "      <th></th>\n",
       "      <th></th>\n",
       "    </tr>\n",
       "  </thead>\n",
       "  <tbody>\n",
       "    <tr>\n",
       "      <th>0.0</th>\n",
       "      <td>0.021433</td>\n",
       "      <td>0.109420</td>\n",
       "      <td>0.011341</td>\n",
       "      <td>0.037113</td>\n",
       "      <td>0.110236</td>\n",
       "      <td>0.045737</td>\n",
       "      <td>0.021728</td>\n",
       "      <td>0.152961</td>\n",
       "      <td>0.098066</td>\n",
       "    </tr>\n",
       "    <tr>\n",
       "      <th>1.0</th>\n",
       "      <td>0.021353</td>\n",
       "      <td>0.045967</td>\n",
       "      <td>0.007313</td>\n",
       "      <td>0.031376</td>\n",
       "      <td>0.055724</td>\n",
       "      <td>0.034626</td>\n",
       "      <td>0.020785</td>\n",
       "      <td>0.094446</td>\n",
       "      <td>0.057497</td>\n",
       "    </tr>\n",
       "    <tr>\n",
       "      <th>2.0</th>\n",
       "      <td>0.026605</td>\n",
       "      <td>0.065334</td>\n",
       "      <td>0.007125</td>\n",
       "      <td>0.022225</td>\n",
       "      <td>0.075130</td>\n",
       "      <td>0.026308</td>\n",
       "      <td>0.038509</td>\n",
       "      <td>0.098969</td>\n",
       "      <td>0.068623</td>\n",
       "    </tr>\n",
       "  </tbody>\n",
       "</table>\n",
       "</div>"
      ],
      "text/plain": [
       "            anger  anticipation   disgust      fear       joy   sadness  \\\n",
       "session                                                                   \n",
       "0.0      0.021433      0.109420  0.011341  0.037113  0.110236  0.045737   \n",
       "1.0      0.021353      0.045967  0.007313  0.031376  0.055724  0.034626   \n",
       "2.0      0.026605      0.065334  0.007125  0.022225  0.075130  0.026308   \n",
       "\n",
       "         surprise     trust  sentiment  \n",
       "session                                 \n",
       "0.0      0.021728  0.152961   0.098066  \n",
       "1.0      0.020785  0.094446   0.057497  \n",
       "2.0      0.038509  0.098969   0.068623  "
      ]
     },
     "execution_count": 251,
     "metadata": {},
     "output_type": "execute_result"
    }
   ],
   "source": [
    "EMO_session"
   ]
  },
  {
   "cell_type": "code",
   "execution_count": 252,
   "id": "1e4b96bb-56c0-4346-9bda-a2a9272b4377",
   "metadata": {},
   "outputs": [],
   "source": [
    "session_thin = EMO_session.stack().to_frame().reset_index().rename(columns={0:'value','level_1':'emo'})"
   ]
  },
  {
   "cell_type": "code",
   "execution_count": 253,
   "id": "8c124562-68a3-40aa-8051-aa1c8cc8d12b",
   "metadata": {},
   "outputs": [],
   "source": [
    "def plot_sentiments(df, emo='sentiment'):\n",
    "    FIG = dict(figsize=(25, 5), legend=True, fontsize=14, rot=45)\n",
    "    df[emo].plot(**FIG)"
   ]
  },
  {
   "cell_type": "code",
   "execution_count": 254,
   "id": "844f8dfd-4782-4b2c-92c3-e27f6e388e16",
   "metadata": {},
   "outputs": [
    {
     "data": {
      "application/vnd.plotly.v1+json": {
       "config": {
        "plotlyServerURL": "https://plot.ly"
       },
       "data": [
        {
         "hovertemplate": "emo=anger<br>session=%{x}<br>value=%{y}<extra></extra>",
         "legendgroup": "anger",
         "line": {
          "color": "#636efa",
          "dash": "solid"
         },
         "marker": {
          "symbol": "circle"
         },
         "mode": "lines",
         "name": "anger",
         "orientation": "v",
         "showlegend": true,
         "type": "scatter",
         "x": [
          0,
          1,
          2
         ],
         "xaxis": "x",
         "y": [
          0.021433080780784274,
          0.02135291274108435,
          0.026604841127065567
         ],
         "yaxis": "y"
        },
        {
         "hovertemplate": "emo=anticipation<br>session=%{x}<br>value=%{y}<extra></extra>",
         "legendgroup": "anticipation",
         "line": {
          "color": "#EF553B",
          "dash": "solid"
         },
         "marker": {
          "symbol": "circle"
         },
         "mode": "lines",
         "name": "anticipation",
         "orientation": "v",
         "showlegend": true,
         "type": "scatter",
         "x": [
          0,
          1,
          2
         ],
         "xaxis": "x",
         "y": [
          0.10942038009597774,
          0.04596657566374031,
          0.06533408777494307
         ],
         "yaxis": "y"
        },
        {
         "hovertemplate": "emo=disgust<br>session=%{x}<br>value=%{y}<extra></extra>",
         "legendgroup": "disgust",
         "line": {
          "color": "#00cc96",
          "dash": "solid"
         },
         "marker": {
          "symbol": "circle"
         },
         "mode": "lines",
         "name": "disgust",
         "orientation": "v",
         "showlegend": true,
         "type": "scatter",
         "x": [
          0,
          1,
          2
         ],
         "xaxis": "x",
         "y": [
          0.011340931891667929,
          0.007313399799478107,
          0.007124856737843374
         ],
         "yaxis": "y"
        },
        {
         "hovertemplate": "emo=fear<br>session=%{x}<br>value=%{y}<extra></extra>",
         "legendgroup": "fear",
         "line": {
          "color": "#ab63fa",
          "dash": "solid"
         },
         "marker": {
          "symbol": "circle"
         },
         "mode": "lines",
         "name": "fear",
         "orientation": "v",
         "showlegend": true,
         "type": "scatter",
         "x": [
          0,
          1,
          2
         ],
         "xaxis": "x",
         "y": [
          0.037113074221259,
          0.03137596166367251,
          0.022224578228794593
         ],
         "yaxis": "y"
        },
        {
         "hovertemplate": "emo=joy<br>session=%{x}<br>value=%{y}<extra></extra>",
         "legendgroup": "joy",
         "line": {
          "color": "#FFA15A",
          "dash": "solid"
         },
         "marker": {
          "symbol": "circle"
         },
         "mode": "lines",
         "name": "joy",
         "orientation": "v",
         "showlegend": true,
         "type": "scatter",
         "x": [
          0,
          1,
          2
         ],
         "xaxis": "x",
         "y": [
          0.11023624039093774,
          0.05572356569276974,
          0.07512968480915136
         ],
         "yaxis": "y"
        },
        {
         "hovertemplate": "emo=sadness<br>session=%{x}<br>value=%{y}<extra></extra>",
         "legendgroup": "sadness",
         "line": {
          "color": "#19d3f3",
          "dash": "solid"
         },
         "marker": {
          "symbol": "circle"
         },
         "mode": "lines",
         "name": "sadness",
         "orientation": "v",
         "showlegend": true,
         "type": "scatter",
         "x": [
          0,
          1,
          2
         ],
         "xaxis": "x",
         "y": [
          0.04573652691780881,
          0.03462630156749378,
          0.026308441109662496
         ],
         "yaxis": "y"
        },
        {
         "hovertemplate": "emo=surprise<br>session=%{x}<br>value=%{y}<extra></extra>",
         "legendgroup": "surprise",
         "line": {
          "color": "#FF6692",
          "dash": "solid"
         },
         "marker": {
          "symbol": "circle"
         },
         "mode": "lines",
         "name": "surprise",
         "orientation": "v",
         "showlegend": true,
         "type": "scatter",
         "x": [
          0,
          1,
          2
         ],
         "xaxis": "x",
         "y": [
          0.021727609677693847,
          0.020784732875188065,
          0.03850859540211561
         ],
         "yaxis": "y"
        },
        {
         "hovertemplate": "emo=trust<br>session=%{x}<br>value=%{y}<extra></extra>",
         "legendgroup": "trust",
         "line": {
          "color": "#B6E880",
          "dash": "solid"
         },
         "marker": {
          "symbol": "circle"
         },
         "mode": "lines",
         "name": "trust",
         "orientation": "v",
         "showlegend": true,
         "type": "scatter",
         "x": [
          0,
          1,
          2
         ],
         "xaxis": "x",
         "y": [
          0.15296059564217826,
          0.09444609900461115,
          0.09896894268554846
         ],
         "yaxis": "y"
        },
        {
         "hovertemplate": "emo=sentiment<br>session=%{x}<br>value=%{y}<extra></extra>",
         "legendgroup": "sentiment",
         "line": {
          "color": "#FF97FF",
          "dash": "solid"
         },
         "marker": {
          "symbol": "circle"
         },
         "mode": "lines",
         "name": "sentiment",
         "orientation": "v",
         "showlegend": true,
         "type": "scatter",
         "x": [
          0,
          1,
          2
         ],
         "xaxis": "x",
         "y": [
          0.09806640975172908,
          0.057496845374943026,
          0.0686232952160117
         ],
         "yaxis": "y"
        }
       ],
       "layout": {
        "autosize": true,
        "legend": {
         "title": {
          "text": "emo"
         },
         "tracegroupgap": 0
        },
        "margin": {
         "t": 60
        },
        "template": {
         "data": {
          "bar": [
           {
            "error_x": {
             "color": "#2a3f5f"
            },
            "error_y": {
             "color": "#2a3f5f"
            },
            "marker": {
             "line": {
              "color": "#E5ECF6",
              "width": 0.5
             },
             "pattern": {
              "fillmode": "overlay",
              "size": 10,
              "solidity": 0.2
             }
            },
            "type": "bar"
           }
          ],
          "barpolar": [
           {
            "marker": {
             "line": {
              "color": "#E5ECF6",
              "width": 0.5
             },
             "pattern": {
              "fillmode": "overlay",
              "size": 10,
              "solidity": 0.2
             }
            },
            "type": "barpolar"
           }
          ],
          "carpet": [
           {
            "aaxis": {
             "endlinecolor": "#2a3f5f",
             "gridcolor": "white",
             "linecolor": "white",
             "minorgridcolor": "white",
             "startlinecolor": "#2a3f5f"
            },
            "baxis": {
             "endlinecolor": "#2a3f5f",
             "gridcolor": "white",
             "linecolor": "white",
             "minorgridcolor": "white",
             "startlinecolor": "#2a3f5f"
            },
            "type": "carpet"
           }
          ],
          "choropleth": [
           {
            "colorbar": {
             "outlinewidth": 0,
             "ticks": ""
            },
            "type": "choropleth"
           }
          ],
          "contour": [
           {
            "colorbar": {
             "outlinewidth": 0,
             "ticks": ""
            },
            "colorscale": [
             [
              0,
              "#0d0887"
             ],
             [
              0.1111111111111111,
              "#46039f"
             ],
             [
              0.2222222222222222,
              "#7201a8"
             ],
             [
              0.3333333333333333,
              "#9c179e"
             ],
             [
              0.4444444444444444,
              "#bd3786"
             ],
             [
              0.5555555555555556,
              "#d8576b"
             ],
             [
              0.6666666666666666,
              "#ed7953"
             ],
             [
              0.7777777777777778,
              "#fb9f3a"
             ],
             [
              0.8888888888888888,
              "#fdca26"
             ],
             [
              1,
              "#f0f921"
             ]
            ],
            "type": "contour"
           }
          ],
          "contourcarpet": [
           {
            "colorbar": {
             "outlinewidth": 0,
             "ticks": ""
            },
            "type": "contourcarpet"
           }
          ],
          "heatmap": [
           {
            "colorbar": {
             "outlinewidth": 0,
             "ticks": ""
            },
            "colorscale": [
             [
              0,
              "#0d0887"
             ],
             [
              0.1111111111111111,
              "#46039f"
             ],
             [
              0.2222222222222222,
              "#7201a8"
             ],
             [
              0.3333333333333333,
              "#9c179e"
             ],
             [
              0.4444444444444444,
              "#bd3786"
             ],
             [
              0.5555555555555556,
              "#d8576b"
             ],
             [
              0.6666666666666666,
              "#ed7953"
             ],
             [
              0.7777777777777778,
              "#fb9f3a"
             ],
             [
              0.8888888888888888,
              "#fdca26"
             ],
             [
              1,
              "#f0f921"
             ]
            ],
            "type": "heatmap"
           }
          ],
          "heatmapgl": [
           {
            "colorbar": {
             "outlinewidth": 0,
             "ticks": ""
            },
            "colorscale": [
             [
              0,
              "#0d0887"
             ],
             [
              0.1111111111111111,
              "#46039f"
             ],
             [
              0.2222222222222222,
              "#7201a8"
             ],
             [
              0.3333333333333333,
              "#9c179e"
             ],
             [
              0.4444444444444444,
              "#bd3786"
             ],
             [
              0.5555555555555556,
              "#d8576b"
             ],
             [
              0.6666666666666666,
              "#ed7953"
             ],
             [
              0.7777777777777778,
              "#fb9f3a"
             ],
             [
              0.8888888888888888,
              "#fdca26"
             ],
             [
              1,
              "#f0f921"
             ]
            ],
            "type": "heatmapgl"
           }
          ],
          "histogram": [
           {
            "marker": {
             "pattern": {
              "fillmode": "overlay",
              "size": 10,
              "solidity": 0.2
             }
            },
            "type": "histogram"
           }
          ],
          "histogram2d": [
           {
            "colorbar": {
             "outlinewidth": 0,
             "ticks": ""
            },
            "colorscale": [
             [
              0,
              "#0d0887"
             ],
             [
              0.1111111111111111,
              "#46039f"
             ],
             [
              0.2222222222222222,
              "#7201a8"
             ],
             [
              0.3333333333333333,
              "#9c179e"
             ],
             [
              0.4444444444444444,
              "#bd3786"
             ],
             [
              0.5555555555555556,
              "#d8576b"
             ],
             [
              0.6666666666666666,
              "#ed7953"
             ],
             [
              0.7777777777777778,
              "#fb9f3a"
             ],
             [
              0.8888888888888888,
              "#fdca26"
             ],
             [
              1,
              "#f0f921"
             ]
            ],
            "type": "histogram2d"
           }
          ],
          "histogram2dcontour": [
           {
            "colorbar": {
             "outlinewidth": 0,
             "ticks": ""
            },
            "colorscale": [
             [
              0,
              "#0d0887"
             ],
             [
              0.1111111111111111,
              "#46039f"
             ],
             [
              0.2222222222222222,
              "#7201a8"
             ],
             [
              0.3333333333333333,
              "#9c179e"
             ],
             [
              0.4444444444444444,
              "#bd3786"
             ],
             [
              0.5555555555555556,
              "#d8576b"
             ],
             [
              0.6666666666666666,
              "#ed7953"
             ],
             [
              0.7777777777777778,
              "#fb9f3a"
             ],
             [
              0.8888888888888888,
              "#fdca26"
             ],
             [
              1,
              "#f0f921"
             ]
            ],
            "type": "histogram2dcontour"
           }
          ],
          "mesh3d": [
           {
            "colorbar": {
             "outlinewidth": 0,
             "ticks": ""
            },
            "type": "mesh3d"
           }
          ],
          "parcoords": [
           {
            "line": {
             "colorbar": {
              "outlinewidth": 0,
              "ticks": ""
             }
            },
            "type": "parcoords"
           }
          ],
          "pie": [
           {
            "automargin": true,
            "type": "pie"
           }
          ],
          "scatter": [
           {
            "fillpattern": {
             "fillmode": "overlay",
             "size": 10,
             "solidity": 0.2
            },
            "type": "scatter"
           }
          ],
          "scatter3d": [
           {
            "line": {
             "colorbar": {
              "outlinewidth": 0,
              "ticks": ""
             }
            },
            "marker": {
             "colorbar": {
              "outlinewidth": 0,
              "ticks": ""
             }
            },
            "type": "scatter3d"
           }
          ],
          "scattercarpet": [
           {
            "marker": {
             "colorbar": {
              "outlinewidth": 0,
              "ticks": ""
             }
            },
            "type": "scattercarpet"
           }
          ],
          "scattergeo": [
           {
            "marker": {
             "colorbar": {
              "outlinewidth": 0,
              "ticks": ""
             }
            },
            "type": "scattergeo"
           }
          ],
          "scattergl": [
           {
            "marker": {
             "colorbar": {
              "outlinewidth": 0,
              "ticks": ""
             }
            },
            "type": "scattergl"
           }
          ],
          "scattermapbox": [
           {
            "marker": {
             "colorbar": {
              "outlinewidth": 0,
              "ticks": ""
             }
            },
            "type": "scattermapbox"
           }
          ],
          "scatterpolar": [
           {
            "marker": {
             "colorbar": {
              "outlinewidth": 0,
              "ticks": ""
             }
            },
            "type": "scatterpolar"
           }
          ],
          "scatterpolargl": [
           {
            "marker": {
             "colorbar": {
              "outlinewidth": 0,
              "ticks": ""
             }
            },
            "type": "scatterpolargl"
           }
          ],
          "scatterternary": [
           {
            "marker": {
             "colorbar": {
              "outlinewidth": 0,
              "ticks": ""
             }
            },
            "type": "scatterternary"
           }
          ],
          "surface": [
           {
            "colorbar": {
             "outlinewidth": 0,
             "ticks": ""
            },
            "colorscale": [
             [
              0,
              "#0d0887"
             ],
             [
              0.1111111111111111,
              "#46039f"
             ],
             [
              0.2222222222222222,
              "#7201a8"
             ],
             [
              0.3333333333333333,
              "#9c179e"
             ],
             [
              0.4444444444444444,
              "#bd3786"
             ],
             [
              0.5555555555555556,
              "#d8576b"
             ],
             [
              0.6666666666666666,
              "#ed7953"
             ],
             [
              0.7777777777777778,
              "#fb9f3a"
             ],
             [
              0.8888888888888888,
              "#fdca26"
             ],
             [
              1,
              "#f0f921"
             ]
            ],
            "type": "surface"
           }
          ],
          "table": [
           {
            "cells": {
             "fill": {
              "color": "#EBF0F8"
             },
             "line": {
              "color": "white"
             }
            },
            "header": {
             "fill": {
              "color": "#C8D4E3"
             },
             "line": {
              "color": "white"
             }
            },
            "type": "table"
           }
          ]
         },
         "layout": {
          "annotationdefaults": {
           "arrowcolor": "#2a3f5f",
           "arrowhead": 0,
           "arrowwidth": 1
          },
          "autotypenumbers": "strict",
          "coloraxis": {
           "colorbar": {
            "outlinewidth": 0,
            "ticks": ""
           }
          },
          "colorscale": {
           "diverging": [
            [
             0,
             "#8e0152"
            ],
            [
             0.1,
             "#c51b7d"
            ],
            [
             0.2,
             "#de77ae"
            ],
            [
             0.3,
             "#f1b6da"
            ],
            [
             0.4,
             "#fde0ef"
            ],
            [
             0.5,
             "#f7f7f7"
            ],
            [
             0.6,
             "#e6f5d0"
            ],
            [
             0.7,
             "#b8e186"
            ],
            [
             0.8,
             "#7fbc41"
            ],
            [
             0.9,
             "#4d9221"
            ],
            [
             1,
             "#276419"
            ]
           ],
           "sequential": [
            [
             0,
             "#0d0887"
            ],
            [
             0.1111111111111111,
             "#46039f"
            ],
            [
             0.2222222222222222,
             "#7201a8"
            ],
            [
             0.3333333333333333,
             "#9c179e"
            ],
            [
             0.4444444444444444,
             "#bd3786"
            ],
            [
             0.5555555555555556,
             "#d8576b"
            ],
            [
             0.6666666666666666,
             "#ed7953"
            ],
            [
             0.7777777777777778,
             "#fb9f3a"
            ],
            [
             0.8888888888888888,
             "#fdca26"
            ],
            [
             1,
             "#f0f921"
            ]
           ],
           "sequentialminus": [
            [
             0,
             "#0d0887"
            ],
            [
             0.1111111111111111,
             "#46039f"
            ],
            [
             0.2222222222222222,
             "#7201a8"
            ],
            [
             0.3333333333333333,
             "#9c179e"
            ],
            [
             0.4444444444444444,
             "#bd3786"
            ],
            [
             0.5555555555555556,
             "#d8576b"
            ],
            [
             0.6666666666666666,
             "#ed7953"
            ],
            [
             0.7777777777777778,
             "#fb9f3a"
            ],
            [
             0.8888888888888888,
             "#fdca26"
            ],
            [
             1,
             "#f0f921"
            ]
           ]
          },
          "colorway": [
           "#636efa",
           "#EF553B",
           "#00cc96",
           "#ab63fa",
           "#FFA15A",
           "#19d3f3",
           "#FF6692",
           "#B6E880",
           "#FF97FF",
           "#FECB52"
          ],
          "font": {
           "color": "#2a3f5f"
          },
          "geo": {
           "bgcolor": "white",
           "lakecolor": "white",
           "landcolor": "#E5ECF6",
           "showlakes": true,
           "showland": true,
           "subunitcolor": "white"
          },
          "hoverlabel": {
           "align": "left"
          },
          "hovermode": "closest",
          "mapbox": {
           "style": "light"
          },
          "paper_bgcolor": "white",
          "plot_bgcolor": "#E5ECF6",
          "polar": {
           "angularaxis": {
            "gridcolor": "white",
            "linecolor": "white",
            "ticks": ""
           },
           "bgcolor": "#E5ECF6",
           "radialaxis": {
            "gridcolor": "white",
            "linecolor": "white",
            "ticks": ""
           }
          },
          "scene": {
           "xaxis": {
            "backgroundcolor": "#E5ECF6",
            "gridcolor": "white",
            "gridwidth": 2,
            "linecolor": "white",
            "showbackground": true,
            "ticks": "",
            "zerolinecolor": "white"
           },
           "yaxis": {
            "backgroundcolor": "#E5ECF6",
            "gridcolor": "white",
            "gridwidth": 2,
            "linecolor": "white",
            "showbackground": true,
            "ticks": "",
            "zerolinecolor": "white"
           },
           "zaxis": {
            "backgroundcolor": "#E5ECF6",
            "gridcolor": "white",
            "gridwidth": 2,
            "linecolor": "white",
            "showbackground": true,
            "ticks": "",
            "zerolinecolor": "white"
           }
          },
          "shapedefaults": {
           "line": {
            "color": "#2a3f5f"
           }
          },
          "ternary": {
           "aaxis": {
            "gridcolor": "white",
            "linecolor": "white",
            "ticks": ""
           },
           "baxis": {
            "gridcolor": "white",
            "linecolor": "white",
            "ticks": ""
           },
           "bgcolor": "#E5ECF6",
           "caxis": {
            "gridcolor": "white",
            "linecolor": "white",
            "ticks": ""
           }
          },
          "title": {
           "x": 0.05
          },
          "xaxis": {
           "automargin": true,
           "gridcolor": "white",
           "linecolor": "white",
           "ticks": "",
           "title": {
            "standoff": 15
           },
           "zerolinecolor": "white",
           "zerolinewidth": 2
          },
          "yaxis": {
           "automargin": true,
           "gridcolor": "white",
           "linecolor": "white",
           "ticks": "",
           "title": {
            "standoff": 15
           },
           "zerolinecolor": "white",
           "zerolinewidth": 2
          }
         }
        },
        "xaxis": {
         "anchor": "y",
         "autorange": true,
         "domain": [
          0,
          1
         ],
         "range": [
          0,
          2
         ],
         "title": {
          "text": "session"
         },
         "type": "linear"
        },
        "yaxis": {
         "anchor": "x",
         "autorange": true,
         "domain": [
          0,
          1
         ],
         "range": [
          -0.0009771287568418972,
          0.16106258113686353
         ],
         "title": {
          "text": "value"
         },
         "type": "linear"
        }
       }
      },
      "image/png": "[encoded data removed]",
      "text/html": [
       "<div>                            <div id=\"e6f58c48-8633-4095-9ae2-86437b01c2df\" class=\"plotly-graph-div\" style=\"height:525px; width:100%;\"></div>            <script type=\"text/javascript\">                require([\"plotly\"], function(Plotly) {                    window.PLOTLYENV=window.PLOTLYENV || {};                                    if (document.getElementById(\"e6f58c48-8633-4095-9ae2-86437b01c2df\")) {                    Plotly.newPlot(                        \"e6f58c48-8633-4095-9ae2-86437b01c2df\",                        [{\"hovertemplate\":\"emo=anger<br>session=%{x}<br>value=%{y}<extra></extra>\",\"legendgroup\":\"anger\",\"line\":{\"color\":\"#636efa\",\"dash\":\"solid\"},\"marker\":{\"symbol\":\"circle\"},\"mode\":\"lines\",\"name\":\"anger\",\"orientation\":\"v\",\"showlegend\":true,\"x\":[0.0,1.0,2.0],\"xaxis\":\"x\",\"y\":[0.021433080780784274,0.02135291274108435,0.026604841127065567],\"yaxis\":\"y\",\"type\":\"scatter\"},{\"hovertemplate\":\"emo=anticipation<br>session=%{x}<br>value=%{y}<extra></extra>\",\"legendgroup\":\"anticipation\",\"line\":{\"color\":\"#EF553B\",\"dash\":\"solid\"},\"marker\":{\"symbol\":\"circle\"},\"mode\":\"lines\",\"name\":\"anticipation\",\"orientation\":\"v\",\"showlegend\":true,\"x\":[0.0,1.0,2.0],\"xaxis\":\"x\",\"y\":[0.10942038009597774,0.04596657566374031,0.06533408777494307],\"yaxis\":\"y\",\"type\":\"scatter\"},{\"hovertemplate\":\"emo=disgust<br>session=%{x}<br>value=%{y}<extra></extra>\",\"legendgroup\":\"disgust\",\"line\":{\"color\":\"#00cc96\",\"dash\":\"solid\"},\"marker\":{\"symbol\":\"circle\"},\"mode\":\"lines\",\"name\":\"disgust\",\"orientation\":\"v\",\"showlegend\":true,\"x\":[0.0,1.0,2.0],\"xaxis\":\"x\",\"y\":[0.011340931891667929,0.007313399799478107,0.007124856737843374],\"yaxis\":\"y\",\"type\":\"scatter\"},{\"hovertemplate\":\"emo=fear<br>session=%{x}<br>value=%{y}<extra></extra>\",\"legendgroup\":\"fear\",\"line\":{\"color\":\"#ab63fa\",\"dash\":\"solid\"},\"marker\":{\"symbol\":\"circle\"},\"mode\":\"lines\",\"name\":\"fear\",\"orientation\":\"v\",\"showlegend\":true,\"x\":[0.0,1.0,2.0],\"xaxis\":\"x\",\"y\":[0.037113074221259,0.03137596166367251,0.022224578228794593],\"yaxis\":\"y\",\"type\":\"scatter\"},{\"hovertemplate\":\"emo=joy<br>session=%{x}<br>value=%{y}<extra></extra>\",\"legendgroup\":\"joy\",\"line\":{\"color\":\"#FFA15A\",\"dash\":\"solid\"},\"marker\":{\"symbol\":\"circle\"},\"mode\":\"lines\",\"name\":\"joy\",\"orientation\":\"v\",\"showlegend\":true,\"x\":[0.0,1.0,2.0],\"xaxis\":\"x\",\"y\":[0.11023624039093774,0.05572356569276974,0.07512968480915136],\"yaxis\":\"y\",\"type\":\"scatter\"},{\"hovertemplate\":\"emo=sadness<br>session=%{x}<br>value=%{y}<extra></extra>\",\"legendgroup\":\"sadness\",\"line\":{\"color\":\"#19d3f3\",\"dash\":\"solid\"},\"marker\":{\"symbol\":\"circle\"},\"mode\":\"lines\",\"name\":\"sadness\",\"orientation\":\"v\",\"showlegend\":true,\"x\":[0.0,1.0,2.0],\"xaxis\":\"x\",\"y\":[0.04573652691780881,0.03462630156749378,0.026308441109662496],\"yaxis\":\"y\",\"type\":\"scatter\"},{\"hovertemplate\":\"emo=surprise<br>session=%{x}<br>value=%{y}<extra></extra>\",\"legendgroup\":\"surprise\",\"line\":{\"color\":\"#FF6692\",\"dash\":\"solid\"},\"marker\":{\"symbol\":\"circle\"},\"mode\":\"lines\",\"name\":\"surprise\",\"orientation\":\"v\",\"showlegend\":true,\"x\":[0.0,1.0,2.0],\"xaxis\":\"x\",\"y\":[0.021727609677693847,0.020784732875188065,0.03850859540211561],\"yaxis\":\"y\",\"type\":\"scatter\"},{\"hovertemplate\":\"emo=trust<br>session=%{x}<br>value=%{y}<extra></extra>\",\"legendgroup\":\"trust\",\"line\":{\"color\":\"#B6E880\",\"dash\":\"solid\"},\"marker\":{\"symbol\":\"circle\"},\"mode\":\"lines\",\"name\":\"trust\",\"orientation\":\"v\",\"showlegend\":true,\"x\":[0.0,1.0,2.0],\"xaxis\":\"x\",\"y\":[0.15296059564217826,0.09444609900461115,0.09896894268554846],\"yaxis\":\"y\",\"type\":\"scatter\"},{\"hovertemplate\":\"emo=sentiment<br>session=%{x}<br>value=%{y}<extra></extra>\",\"legendgroup\":\"sentiment\",\"line\":{\"color\":\"#FF97FF\",\"dash\":\"solid\"},\"marker\":{\"symbol\":\"circle\"},\"mode\":\"lines\",\"name\":\"sentiment\",\"orientation\":\"v\",\"showlegend\":true,\"x\":[0.0,1.0,2.0],\"xaxis\":\"x\",\"y\":[0.09806640975172908,0.057496845374943026,0.0686232952160117],\"yaxis\":\"y\",\"type\":\"scatter\"}],                        {\"template\":{\"data\":{\"histogram2dcontour\":[{\"type\":\"histogram2dcontour\",\"colorbar\":{\"outlinewidth\":0,\"ticks\":\"\"},\"colorscale\":[[0.0,\"#0d0887\"],[0.1111111111111111,\"#46039f\"],[0.2222222222222222,\"#7201a8\"],[0.3333333333333333,\"#9c179e\"],[0.4444444444444444,\"#bd3786\"],[0.5555555555555556,\"#d8576b\"],[0.6666666666666666,\"#ed7953\"],[0.7777777777777778,\"#fb9f3a\"],[0.8888888888888888,\"#fdca26\"],[1.0,\"#f0f921\"]]}],\"choropleth\":[{\"type\":\"choropleth\",\"colorbar\":{\"outlinewidth\":0,\"ticks\":\"\"}}],\"histogram2d\":[{\"type\":\"histogram2d\",\"colorbar\":{\"outlinewidth\":0,\"ticks\":\"\"},\"colorscale\":[[0.0,\"#0d0887\"],[0.1111111111111111,\"#46039f\"],[0.2222222222222222,\"#7201a8\"],[0.3333333333333333,\"#9c179e\"],[0.4444444444444444,\"#bd3786\"],[0.5555555555555556,\"#d8576b\"],[0.6666666666666666,\"#ed7953\"],[0.7777777777777778,\"#fb9f3a\"],[0.8888888888888888,\"#fdca26\"],[1.0,\"#f0f921\"]]}],\"heatmap\":[{\"type\":\"heatmap\",\"colorbar\":{\"outlinewidth\":0,\"ticks\":\"\"},\"colorscale\":[[0.0,\"#0d0887\"],[0.1111111111111111,\"#46039f\"],[0.2222222222222222,\"#7201a8\"],[0.3333333333333333,\"#9c179e\"],[0.4444444444444444,\"#bd3786\"],[0.5555555555555556,\"#d8576b\"],[0.6666666666666666,\"#ed7953\"],[0.7777777777777778,\"#fb9f3a\"],[0.8888888888888888,\"#fdca26\"],[1.0,\"#f0f921\"]]}],\"heatmapgl\":[{\"type\":\"heatmapgl\",\"colorbar\":{\"outlinewidth\":0,\"ticks\":\"\"},\"colorscale\":[[0.0,\"#0d0887\"],[0.1111111111111111,\"#46039f\"],[0.2222222222222222,\"#7201a8\"],[0.3333333333333333,\"#9c179e\"],[0.4444444444444444,\"#bd3786\"],[0.5555555555555556,\"#d8576b\"],[0.6666666666666666,\"#ed7953\"],[0.7777777777777778,\"#fb9f3a\"],[0.8888888888888888,\"#fdca26\"],[1.0,\"#f0f921\"]]}],\"contourcarpet\":[{\"type\":\"contourcarpet\",\"colorbar\":{\"outlinewidth\":0,\"ticks\":\"\"}}],\"contour\":[{\"type\":\"contour\",\"colorbar\":{\"outlinewidth\":0,\"ticks\":\"\"},\"colorscale\":[[0.0,\"#0d0887\"],[0.1111111111111111,\"#46039f\"],[0.2222222222222222,\"#7201a8\"],[0.3333333333333333,\"#9c179e\"],[0.4444444444444444,\"#bd3786\"],[0.5555555555555556,\"#d8576b\"],[0.6666666666666666,\"#ed7953\"],[0.7777777777777778,\"#fb9f3a\"],[0.8888888888888888,\"#fdca26\"],[1.0,\"#f0f921\"]]}],\"surface\":[{\"type\":\"surface\",\"colorbar\":{\"outlinewidth\":0,\"ticks\":\"\"},\"colorscale\":[[0.0,\"#0d0887\"],[0.1111111111111111,\"#46039f\"],[0.2222222222222222,\"#7201a8\"],[0.3333333333333333,\"#9c179e\"],[0.4444444444444444,\"#bd3786\"],[0.5555555555555556,\"#d8576b\"],[0.6666666666666666,\"#ed7953\"],[0.7777777777777778,\"#fb9f3a\"],[0.8888888888888888,\"#fdca26\"],[1.0,\"#f0f921\"]]}],\"mesh3d\":[{\"type\":\"mesh3d\",\"colorbar\":{\"outlinewidth\":0,\"ticks\":\"\"}}],\"scatter\":[{\"fillpattern\":{\"fillmode\":\"overlay\",\"size\":10,\"solidity\":0.2},\"type\":\"scatter\"}],\"parcoords\":[{\"type\":\"parcoords\",\"line\":{\"colorbar\":{\"outlinewidth\":0,\"ticks\":\"\"}}}],\"scatterpolargl\":[{\"type\":\"scatterpolargl\",\"marker\":{\"colorbar\":{\"outlinewidth\":0,\"ticks\":\"\"}}}],\"bar\":[{\"error_x\":{\"color\":\"#2a3f5f\"},\"error_y\":{\"color\":\"#2a3f5f\"},\"marker\":{\"line\":{\"color\":\"#E5ECF6\",\"width\":0.5},\"pattern\":{\"fillmode\":\"overlay\",\"size\":10,\"solidity\":0.2}},\"type\":\"bar\"}],\"scattergeo\":[{\"type\":\"scattergeo\",\"marker\":{\"colorbar\":{\"outlinewidth\":0,\"ticks\":\"\"}}}],\"scatterpolar\":[{\"type\":\"scatterpolar\",\"marker\":{\"colorbar\":{\"outlinewidth\":0,\"ticks\":\"\"}}}],\"histogram\":[{\"marker\":{\"pattern\":{\"fillmode\":\"overlay\",\"size\":10,\"solidity\":0.2}},\"type\":\"histogram\"}],\"scattergl\":[{\"type\":\"scattergl\",\"marker\":{\"colorbar\":{\"outlinewidth\":0,\"ticks\":\"\"}}}],\"scatter3d\":[{\"type\":\"scatter3d\",\"line\":{\"colorbar\":{\"outlinewidth\":0,\"ticks\":\"\"}},\"marker\":{\"colorbar\":{\"outlinewidth\":0,\"ticks\":\"\"}}}],\"scattermapbox\":[{\"type\":\"scattermapbox\",\"marker\":{\"colorbar\":{\"outlinewidth\":0,\"ticks\":\"\"}}}],\"scatterternary\":[{\"type\":\"scatterternary\",\"marker\":{\"colorbar\":{\"outlinewidth\":0,\"ticks\":\"\"}}}],\"scattercarpet\":[{\"type\":\"scattercarpet\",\"marker\":{\"colorbar\":{\"outlinewidth\":0,\"ticks\":\"\"}}}],\"carpet\":[{\"aaxis\":{\"endlinecolor\":\"#2a3f5f\",\"gridcolor\":\"white\",\"linecolor\":\"white\",\"minorgridcolor\":\"white\",\"startlinecolor\":\"#2a3f5f\"},\"baxis\":{\"endlinecolor\":\"#2a3f5f\",\"gridcolor\":\"white\",\"linecolor\":\"white\",\"minorgridcolor\":\"white\",\"startlinecolor\":\"#2a3f5f\"},\"type\":\"carpet\"}],\"table\":[{\"cells\":{\"fill\":{\"color\":\"#EBF0F8\"},\"line\":{\"color\":\"white\"}},\"header\":{\"fill\":{\"color\":\"#C8D4E3\"},\"line\":{\"color\":\"white\"}},\"type\":\"table\"}],\"barpolar\":[{\"marker\":{\"line\":{\"color\":\"#E5ECF6\",\"width\":0.5},\"pattern\":{\"fillmode\":\"overlay\",\"size\":10,\"solidity\":0.2}},\"type\":\"barpolar\"}],\"pie\":[{\"automargin\":true,\"type\":\"pie\"}]},\"layout\":{\"autotypenumbers\":\"strict\",\"colorway\":[\"#636efa\",\"#EF553B\",\"#00cc96\",\"#ab63fa\",\"#FFA15A\",\"#19d3f3\",\"#FF6692\",\"#B6E880\",\"#FF97FF\",\"#FECB52\"],\"font\":{\"color\":\"#2a3f5f\"},\"hovermode\":\"closest\",\"hoverlabel\":{\"align\":\"left\"},\"paper_bgcolor\":\"white\",\"plot_bgcolor\":\"#E5ECF6\",\"polar\":{\"bgcolor\":\"#E5ECF6\",\"angularaxis\":{\"gridcolor\":\"white\",\"linecolor\":\"white\",\"ticks\":\"\"},\"radialaxis\":{\"gridcolor\":\"white\",\"linecolor\":\"white\",\"ticks\":\"\"}},\"ternary\":{\"bgcolor\":\"#E5ECF6\",\"aaxis\":{\"gridcolor\":\"white\",\"linecolor\":\"white\",\"ticks\":\"\"},\"baxis\":{\"gridcolor\":\"white\",\"linecolor\":\"white\",\"ticks\":\"\"},\"caxis\":{\"gridcolor\":\"white\",\"linecolor\":\"white\",\"ticks\":\"\"}},\"coloraxis\":{\"colorbar\":{\"outlinewidth\":0,\"ticks\":\"\"}},\"colorscale\":{\"sequential\":[[0.0,\"#0d0887\"],[0.1111111111111111,\"#46039f\"],[0.2222222222222222,\"#7201a8\"],[0.3333333333333333,\"#9c179e\"],[0.4444444444444444,\"#bd3786\"],[0.5555555555555556,\"#d8576b\"],[0.6666666666666666,\"#ed7953\"],[0.7777777777777778,\"#fb9f3a\"],[0.8888888888888888,\"#fdca26\"],[1.0,\"#f0f921\"]],\"sequentialminus\":[[0.0,\"#0d0887\"],[0.1111111111111111,\"#46039f\"],[0.2222222222222222,\"#7201a8\"],[0.3333333333333333,\"#9c179e\"],[0.4444444444444444,\"#bd3786\"],[0.5555555555555556,\"#d8576b\"],[0.6666666666666666,\"#ed7953\"],[0.7777777777777778,\"#fb9f3a\"],[0.8888888888888888,\"#fdca26\"],[1.0,\"#f0f921\"]],\"diverging\":[[0,\"#8e0152\"],[0.1,\"#c51b7d\"],[0.2,\"#de77ae\"],[0.3,\"#f1b6da\"],[0.4,\"#fde0ef\"],[0.5,\"#f7f7f7\"],[0.6,\"#e6f5d0\"],[0.7,\"#b8e186\"],[0.8,\"#7fbc41\"],[0.9,\"#4d9221\"],[1,\"#276419\"]]},\"xaxis\":{\"gridcolor\":\"white\",\"linecolor\":\"white\",\"ticks\":\"\",\"title\":{\"standoff\":15},\"zerolinecolor\":\"white\",\"automargin\":true,\"zerolinewidth\":2},\"yaxis\":{\"gridcolor\":\"white\",\"linecolor\":\"white\",\"ticks\":\"\",\"title\":{\"standoff\":15},\"zerolinecolor\":\"white\",\"automargin\":true,\"zerolinewidth\":2},\"scene\":{\"xaxis\":{\"backgroundcolor\":\"#E5ECF6\",\"gridcolor\":\"white\",\"linecolor\":\"white\",\"showbackground\":true,\"ticks\":\"\",\"zerolinecolor\":\"white\",\"gridwidth\":2},\"yaxis\":{\"backgroundcolor\":\"#E5ECF6\",\"gridcolor\":\"white\",\"linecolor\":\"white\",\"showbackground\":true,\"ticks\":\"\",\"zerolinecolor\":\"white\",\"gridwidth\":2},\"zaxis\":{\"backgroundcolor\":\"#E5ECF6\",\"gridcolor\":\"white\",\"linecolor\":\"white\",\"showbackground\":true,\"ticks\":\"\",\"zerolinecolor\":\"white\",\"gridwidth\":2}},\"shapedefaults\":{\"line\":{\"color\":\"#2a3f5f\"}},\"annotationdefaults\":{\"arrowcolor\":\"#2a3f5f\",\"arrowhead\":0,\"arrowwidth\":1},\"geo\":{\"bgcolor\":\"white\",\"landcolor\":\"#E5ECF6\",\"subunitcolor\":\"white\",\"showland\":true,\"showlakes\":true,\"lakecolor\":\"white\"},\"title\":{\"x\":0.05},\"mapbox\":{\"style\":\"light\"}}},\"xaxis\":{\"anchor\":\"y\",\"domain\":[0.0,1.0],\"title\":{\"text\":\"session\"}},\"yaxis\":{\"anchor\":\"x\",\"domain\":[0.0,1.0],\"title\":{\"text\":\"value\"}},\"legend\":{\"title\":{\"text\":\"emo\"},\"tracegroupgap\":0},\"margin\":{\"t\":60}},                        {\"responsive\": true}                    ).then(function(){\n",
       "                            \n",
       "var gd = document.getElementById('e6f58c48-8633-4095-9ae2-86437b01c2df');\n",
       "var x = new MutationObserver(function (mutations, observer) {{\n",
       "        var display = window.getComputedStyle(gd).display;\n",
       "        if (!display || display === 'none') {{\n",
       "            console.log([gd, 'removed!']);\n",
       "            Plotly.purge(gd);\n",
       "            observer.disconnect();\n",
       "        }}\n",
       "}});\n",
       "\n",
       "// Listen for the removal of the full notebook cells\n",
       "var notebookContainer = gd.closest('#notebook-container');\n",
       "if (notebookContainer) {{\n",
       "    x.observe(notebookContainer, {childList: true});\n",
       "}}\n",
       "\n",
       "// Listen for the clearing of the current output cell\n",
       "var outputEl = gd.closest('.output');\n",
       "if (outputEl) {{\n",
       "    x.observe(outputEl, {childList: true});\n",
       "}}\n",
       "\n",
       "                        })                };                });            </script>        </div>"
      ]
     },
     "metadata": {},
     "output_type": "display_data"
    }
   ],
   "source": [
    "px.line(session_thin, x='session', y='value', color='emo')"
   ]
  },
  {
   "cell_type": "markdown",
   "id": "a8f9719a-fbad-48d7-a9ac-814ab57509da",
   "metadata": {},
   "source": [
    "## Save Data "
   ]
  },
  {
   "cell_type": "code",
   "execution_count": 255,
   "id": "453f744c-c008-4c90-9bbb-f442e96a9331",
   "metadata": {},
   "outputs": [],
   "source": [
    "V.to_csv(f\"{output_dir}/sent_vocab.csv\", index=True)\n",
    "B.to_csv(f\"{output_dir}/sent_bow.csv\", index=True)\n",
    "EMO_personxsession.to_csv(f\"{output_dir}/sent_doc.csv\", index=True)"
   ]
  },
  {
   "cell_type": "code",
   "execution_count": null,
   "id": "4689ab67-7c31-4032-bc2f-c0520d62229c",
   "metadata": {},
   "outputs": [],
   "source": []
  }
 ],
 "metadata": {
  "kernelspec": {
   "display_name": "Python 3",
   "language": "python",
   "name": "python3"
  },
  "language_info": {
   "codemirror_mode": {
    "name": "ipython",
    "version": 3
   },
   "file_extension": ".py",
   "mimetype": "text/x-python",
   "name": "python",
   "nbconvert_exporter": "python",
   "pygments_lexer": "ipython3",
   "version": "3.8.8"
  }
 },
 "nbformat": 4,
 "nbformat_minor": 5
}
